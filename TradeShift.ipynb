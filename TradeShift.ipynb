{
 "metadata": {
  "name": "",
  "signature": "sha256:4054ffd8d02bcddd432bb8d086fbaf06b010430948c9156ea33266bb13ec32f7"
 },
 "nbformat": 3,
 "nbformat_minor": 0,
 "worksheets": [
  {
   "cells": [
    {
     "cell_type": "raw",
     "metadata": {},
     "source": [
      "pwd"
     ]
    },
    {
     "cell_type": "code",
     "collapsed": false,
     "input": [
      "run fast_solution.py"
     ],
     "language": "python",
     "metadata": {},
     "outputs": [
      {
       "output_type": "stream",
       "stream": "stdout",
       "text": [
        "2014-10-11 08:34:27.573000\tencountered: 100000\tcurrent logloss: 0.027061\n",
        "2014-10-11 08:41:59.140000\tencountered: 200000\tcurrent logloss: 0.023047"
       ]
      },
      {
       "output_type": "stream",
       "stream": "stdout",
       "text": [
        "\n",
        "2014-10-11 08:49:32.417000\tencountered: 300000\tcurrent logloss: 0.020879"
       ]
      },
      {
       "output_type": "stream",
       "stream": "stdout",
       "text": [
        "\n",
        "2014-10-11 08:57:12.101000\tencountered: 400000\tcurrent logloss: 0.019529"
       ]
      },
      {
       "output_type": "stream",
       "stream": "stdout",
       "text": [
        "\n",
        "2014-10-11 09:04:48.219000\tencountered: 500000\tcurrent logloss: 0.018498"
       ]
      },
      {
       "output_type": "stream",
       "stream": "stdout",
       "text": [
        "\n",
        "2014-10-11 09:12:26.263000\tencountered: 600000\tcurrent logloss: 0.017736"
       ]
      },
      {
       "output_type": "stream",
       "stream": "stdout",
       "text": [
        "\n",
        "2014-10-11 09:20:10.174000\tencountered: 700000\tcurrent logloss: 0.017139"
       ]
      },
      {
       "output_type": "stream",
       "stream": "stdout",
       "text": [
        "\n",
        "2014-10-11 09:27:53.420000\tencountered: 800000\tcurrent logloss: 0.016632"
       ]
      },
      {
       "output_type": "stream",
       "stream": "stdout",
       "text": [
        "\n",
        "2014-10-11 09:35:33.676000\tencountered: 900000\tcurrent logloss: 0.016207"
       ]
      },
      {
       "output_type": "stream",
       "stream": "stdout",
       "text": [
        "\n",
        "2014-10-11 09:43:18.395000\tencountered: 1000000\tcurrent logloss: 0.015834"
       ]
      },
      {
       "output_type": "stream",
       "stream": "stdout",
       "text": [
        "\n",
        "2014-10-11 09:51:02.797000\tencountered: 1100000\tcurrent logloss: 0.015498"
       ]
      },
      {
       "output_type": "stream",
       "stream": "stdout",
       "text": [
        "\n",
        "2014-10-11 09:58:54.950000\tencountered: 1200000\tcurrent logloss: 0.015205"
       ]
      },
      {
       "output_type": "stream",
       "stream": "stdout",
       "text": [
        "\n",
        "2014-10-11 10:06:42.771000\tencountered: 1300000\tcurrent logloss: 0.014940"
       ]
      },
      {
       "output_type": "stream",
       "stream": "stdout",
       "text": [
        "\n",
        "2014-10-11 10:14:33.703000\tencountered: 1400000\tcurrent logloss: 0.014705"
       ]
      },
      {
       "output_type": "stream",
       "stream": "stdout",
       "text": [
        "\n",
        "2014-10-11 10:22:32.112000\tencountered: 1500000\tcurrent logloss: 0.014485"
       ]
      },
      {
       "output_type": "stream",
       "stream": "stdout",
       "text": [
        "\n",
        "2014-10-11 10:30:27.155000\tencountered: 1600000\tcurrent logloss: 0.014278"
       ]
      },
      {
       "output_type": "stream",
       "stream": "stdout",
       "text": [
        "\n",
        "2014-10-11 10:38:21.661000\tencountered: 1700000\tcurrent logloss: 0.014093"
       ]
      },
      {
       "output_type": "stream",
       "stream": "stdout",
       "text": [
        "\n",
        "Done, elapsed time: 2:21:34.423000"
       ]
      },
      {
       "output_type": "stream",
       "stream": "stdout",
       "text": [
        "\n"
       ]
      }
     ],
     "prompt_number": 5
    },
    {
     "cell_type": "code",
     "collapsed": false,
     "input": [
      "import matplotlib.pyplot as plt\n",
      "import numpy as np\n",
      "import pandas as pd\n",
      "import csv\n",
      "\n",
      "from sklearn.ensemble import RandomForestClassifier\n",
      "\n",
      "train_pd = pd.read_csv('Trade Shift/train.csv',header=0, nrows=1000)"
     ],
     "language": "python",
     "metadata": {},
     "outputs": [],
     "prompt_number": 65
    },
    {
     "cell_type": "code",
     "collapsed": false,
     "input": [
      "train_pd.x8.hist()"
     ],
     "language": "python",
     "metadata": {},
     "outputs": [
      {
       "metadata": {},
       "output_type": "pyout",
       "prompt_number": 66,
       "text": [
        "<matplotlib.axes.AxesSubplot at 0x16f81128>"
       ]
      },
      {
       "metadata": {},
       "output_type": "display_data",
       "png": "[encoded data removed]",
       "text": [
        "<matplotlib.figure.Figure at 0x16f81438>"
       ]
      }
     ],
     "prompt_number": 66
    },
    {
     "cell_type": "code",
     "collapsed": false,
     "input": [
      "pwd"
     ],
     "language": "python",
     "metadata": {},
     "outputs": [
      {
       "metadata": {},
       "output_type": "pyout",
       "prompt_number": 1,
       "text": [
        "u'C:\\\\Users\\\\SYan\\\\Desktop\\\\IPython Notebooks'"
       ]
      }
     ],
     "prompt_number": 1
    },
    {
     "cell_type": "code",
     "collapsed": false,
     "input": [
      "cd ../Kaggle"
     ],
     "language": "python",
     "metadata": {},
     "outputs": [
      {
       "output_type": "stream",
       "stream": "stdout",
       "text": [
        "C:\\Users\\SYan\\Desktop\\Kaggle\n"
       ]
      }
     ],
     "prompt_number": 2
    },
    {
     "cell_type": "code",
     "collapsed": false,
     "input": [
      "cd 'Trade Shift/'"
     ],
     "language": "python",
     "metadata": {},
     "outputs": [
      {
       "output_type": "stream",
       "stream": "stdout",
       "text": [
        "C:\\Users\\SYan\\Desktop\\Kaggle\\Trade Shift\n"
       ]
      }
     ],
     "prompt_number": 3
    },
    {
     "cell_type": "code",
     "collapsed": false,
     "input": [
      "edit hashing_feature.py"
     ],
     "language": "python",
     "metadata": {},
     "outputs": [],
     "prompt_number": 12
    },
    {
     "cell_type": "code",
     "collapsed": false,
     "input": [
      "load hashing_feature.py"
     ],
     "language": "python",
     "metadata": {},
     "outputs": [],
     "prompt_number": 13
    },
    {
     "cell_type": "code",
     "collapsed": false,
     "input": [
      "\"\"\"\n",
      "Created on Mon Oct 13 13:40:21 2014\n",
      "\n",
      "@author: SYan\n",
      "\"\"\"\n",
      "\n",
      "from datetime import datetime\n",
      "\n",
      "import matplotlib.pyplot as plt\n",
      "import numpy as np\n",
      "import pandas as pd\n",
      "import random\n",
      "\n",
      "from sklearn.ensemble import RandomForestClassifier\n",
      "from sklearn import preprocessing\n",
      "from sklearn import metrics\n",
      "\n",
      "# parameters #################################################################\n",
      "\n",
      "start = datetime.now()\n",
      "\n",
      "\"\"\"\n",
      "# Only loading one time\n",
      "print \"Step0: Loading raw data\"\n",
      "raw_train = pd.read_csv('train.csv', header=0)\n",
      "raw_label = pd.read_csv('trainLabels.csv', header=0)\n",
      "raw_test = pd.read_csv('test.csv', header=0)\n",
      "\n",
      "print('Data loading is done! elapsed time: %s' % str(datetime.now() - start))\n",
      "\n",
      "\"\"\"\n",
      "\n",
      "#\"\"\"\n",
      "\n",
      "print \"Step1: Sampling\"\n",
      "nSample = 200000\n",
      "rows = random.sample(raw_train.index, nSample)\n",
      "train = raw_train.ix[rows]\n",
      "label = raw_label.ix[rows]\n",
      "#test = raw_test\n",
      "#del raw_test\n",
      "\n",
      "split = 0.8\n",
      "rows = random.sample(train.index, int(split * nSample))\n",
      "\n",
      "temp = train\n",
      "train = temp.ix[rows] \n",
      "validation = temp.drop(rows)\n",
      "\n",
      "temp = label\n",
      "label = temp.ix[rows]\n",
      "label_validation = temp.drop(rows)\n",
      "del temp\n",
      "\n",
      "D = 2 ** 18  # number of weights use for each model, we have 32 of them\n",
      "alpha = .1   # learning rate for sgd optimization\n",
      "\n",
      "\n",
      "#train = train.append(label)\n",
      "#train.dropna()\n",
      "\n",
      "# function, generator definitions ############################################\n",
      "\n",
      "#     bounded logarithmic loss of p given y\n",
      "def freq(v):\n",
      "    table = {}\n",
      "    for key in v:\n",
      "        if not key in table:\n",
      "            table[key] = 1\n",
      "        else:\n",
      "            table[key] += 1\n",
      "        \n",
      "    return table\n",
      "    \n",
      "\n",
      "def lookup(hashT, v):\n",
      "    temp = v\n",
      "    ind = v.index\n",
      "    count = 0\n",
      "    \n",
      "    for key in v:\n",
      "        temp[ind[count]] = hashT[key]\n",
      "        count = count + 1\n",
      "    return temp\n",
      "        \n",
      "\n",
      "\n",
      "#hasher = FeatureHasher(input_type = 'string')\n",
      "print \"Step2: Hashing Frequency Table\"\n",
      "a = set(train)\n",
      "table = {}\n",
      "\n",
      "for i in a:\n",
      "    if i == 'id':\n",
      "        continue\n",
      "    if train[i].dtypes == 'object':\n",
      "        #print i\n",
      "        temp = train[i].fillna('other')\n",
      "        table = freq(temp)\n",
      "        train[i] = lookup(table, temp)\n",
      "        \n",
      "        temp = validation[i].fillna('other')\n",
      "        table = freq(temp)\n",
      "        validation[i] = lookup(table, temp)\n",
      "    \n",
      "        temp = test[i].fillna('other')\n",
      "        table = freq(temp)\n",
      "        test[i] = lookup(table, temp)  \n",
      "    else:\n",
      "        mean = train[i].mean()\n",
      "        temp = train[i].fillna(mean)\n",
      "        train[i] = temp\n",
      "        \n",
      "        temp = validation[i].fillna(mean)\n",
      "        validation[i] = temp\n",
      "        \n",
      "        temp = test[i].fillna(mean)\n",
      "        test[i] = temp\n",
      "    # scaling    \n",
      "    train[i] = preprocessing.scale(train[i].astype('float'))\n",
      "    validation[i] = preprocessing.scale(validation[i].astype('float'))\n",
      "    test[i] = preprocessing.scale(test[i].astype('float'))\n",
      "    \n",
      "    if any(train[i].isnull()):\n",
      "        print i\n",
      "\n",
      "del temp\n",
      "del table\n",
      "p1 = datetime.now()\n",
      "print('Sampling and hashing are done, elapsed time: %s' % str(p1 - start))\n",
      "\n",
      "#\"\"\"\n",
      "\n",
      "# Model training ###################################################\n",
      "        \n",
      "print \"Step3: Start training models\"       \n",
      "\n",
      "\n",
      "# a list for range(0, 33) - 13, no need to learn y14 since it is always 0\n",
      "K = set(label)\n",
      "count = 0\n",
      "model = {}\n",
      "\n",
      "outfile = open('./submission_new.csv', 'w')\n",
      "outfile.write('id_label, pred\\n')\n",
      "    \n",
      "for k in K:\n",
      "    if k != 'y14' and  k != 'id':\n",
      "        forest = RandomForestClassifier(n_estimators = 200, verbose = 0, n_jobs = 4)\n",
      "       #No 'y14' or 'id'    \n",
      "        model[k] = forest.fit(train.drop('id', 1), label[k])\n",
      "        output_validation = model[k].predict_proba(validation.drop('id', 1))\n",
      "        print \"\\n\", k, \"AUC = \", metrics.roc_auc_score(label_validation[k], output_validation[:,1])\n",
      "        count += 1\n",
      "\"\"\"       \n",
      "for i in range(len(test)):\n",
      "    for k in {'y1','y3','y8','y9'}:\n",
      "        #print k\n",
      "        if k != 'y14' and  k != 'id':\n",
      "            output = model[k].predict_proba(test.drop('id', 1).ix[i])\n",
      "            outfile.write('%s_%s,%s\\n' % (test.id[i], k, output[0][1]))\n",
      "        elif k == 'y14':\n",
      "            outfile.write('%s_y14,0.0\\n' % test.id[i])\n",
      "\"\"\"           \n",
      "\n",
      "    \n",
      "outfile.close()\n",
      "print('Training is done, elapsed time: %s' % str(datetime.now() - p1))           \n",
      "print('Done, elapsed time: %s' % str(datetime.now() - start))"
     ],
     "language": "python",
     "metadata": {},
     "outputs": [
      {
       "output_type": "stream",
       "stream": "stdout",
       "text": [
        "Step1: Sampling\n",
        "Step2: Hashing Frequency Table"
       ]
      },
      {
       "output_type": "stream",
       "stream": "stdout",
       "text": [
        "\n",
        "Sampling and hashing are done, elapsed time: 0:07:22.736000"
       ]
      },
      {
       "output_type": "stream",
       "stream": "stdout",
       "text": [
        "\n",
        "Step3: Start training models\n",
        "\n"
       ]
      },
      {
       "output_type": "stream",
       "stream": "stdout",
       "text": [
        "y9 AUC =  0.995972842807\n",
        "\n"
       ]
      },
      {
       "output_type": "stream",
       "stream": "stdout",
       "text": [
        "y8 AUC =  0.906103561541\n",
        "\n"
       ]
      },
      {
       "output_type": "stream",
       "stream": "stdout",
       "text": [
        "y1 AUC =  0.985137189811\n",
        "\n"
       ]
      },
      {
       "output_type": "stream",
       "stream": "stdout",
       "text": [
        "y3 AUC =  0.999991236682\n",
        "\n"
       ]
      },
      {
       "output_type": "stream",
       "stream": "stdout",
       "text": [
        "y2 AUC =  0.996222450154\n",
        "\n"
       ]
      },
      {
       "output_type": "stream",
       "stream": "stdout",
       "text": [
        "y5 AUC =  1.0\n",
        "\n"
       ]
      },
      {
       "output_type": "stream",
       "stream": "stdout",
       "text": [
        "y4 AUC =  0.999762056914\n",
        "\n"
       ]
      },
      {
       "output_type": "stream",
       "stream": "stdout",
       "text": [
        "y7 AUC =  0.989257854775\n",
        "\n"
       ]
      },
      {
       "output_type": "stream",
       "stream": "stdout",
       "text": [
        "y6 AUC =  0.992532041037\n",
        "\n"
       ]
      },
      {
       "output_type": "stream",
       "stream": "stdout",
       "text": [
        "y28 AUC =  0.988652735421\n",
        "\n"
       ]
      },
      {
       "output_type": "stream",
       "stream": "stdout",
       "text": [
        "y29 AUC =  0.994219551409\n",
        "\n"
       ]
      },
      {
       "output_type": "stream",
       "stream": "stdout",
       "text": [
        "y20 AUC =  0.999674273303\n",
        "\n"
       ]
      },
      {
       "output_type": "stream",
       "stream": "stdout",
       "text": [
        "y21 AUC =  0.999843650952\n",
        "\n"
       ]
      },
      {
       "output_type": "stream",
       "stream": "stdout",
       "text": [
        "y22 AUC =  0.998986669718\n",
        "\n"
       ]
      },
      {
       "output_type": "stream",
       "stream": "stdout",
       "text": [
        "y23 AUC =  0.999951692634\n",
        "\n"
       ]
      },
      {
       "output_type": "stream",
       "stream": "stdout",
       "text": [
        "y24 AUC =  0.99732417377\n",
        "\n"
       ]
      },
      {
       "output_type": "stream",
       "stream": "stdout",
       "text": [
        "y25 AUC =  0.993645838998\n",
        "\n"
       ]
      },
      {
       "output_type": "stream",
       "stream": "stdout",
       "text": [
        "y26 AUC =  0.991485108829\n",
        "\n"
       ]
      },
      {
       "output_type": "stream",
       "stream": "stdout",
       "text": [
        "y27 AUC =  0.997673528268\n",
        "\n"
       ]
      },
      {
       "output_type": "stream",
       "stream": "stdout",
       "text": [
        "y33 AUC =  0.988226156279\n",
        "\n"
       ]
      },
      {
       "output_type": "stream",
       "stream": "stdout",
       "text": [
        "y32 AUC =  0.996733878269\n",
        "\n"
       ]
      },
      {
       "output_type": "stream",
       "stream": "stdout",
       "text": [
        "y31 AUC =  0.996699491277\n",
        "\n"
       ]
      },
      {
       "output_type": "stream",
       "stream": "stdout",
       "text": [
        "y30 AUC =  "
       ]
      },
      {
       "output_type": "stream",
       "stream": "stdout",
       "text": [
        "0.99394163446\n",
        "\n"
       ]
      },
      {
       "output_type": "stream",
       "stream": "stdout",
       "text": [
        "y19 AUC =  0.995185210669\n",
        "\n"
       ]
      },
      {
       "output_type": "stream",
       "stream": "stdout",
       "text": [
        "y18 AUC =  0.79135391924\n",
        "\n"
       ]
      },
      {
       "output_type": "stream",
       "stream": "stdout",
       "text": [
        "y15 AUC =  0.999721000124\n",
        "\n"
       ]
      },
      {
       "output_type": "stream",
       "stream": "stdout",
       "text": [
        "y17 AUC =  0.79450542124\n",
        "\n"
       ]
      },
      {
       "output_type": "stream",
       "stream": "stdout",
       "text": [
        "y16 AUC =  0.998634619873\n",
        "\n"
       ]
      },
      {
       "output_type": "stream",
       "stream": "stdout",
       "text": [
        "y11 AUC =  0.932124894997\n",
        "\n"
       ]
      },
      {
       "output_type": "stream",
       "stream": "stdout",
       "text": [
        "y10 AUC =  0.985811185592\n",
        "\n"
       ]
      },
      {
       "output_type": "stream",
       "stream": "stdout",
       "text": [
        "y13 AUC =  0.992944908454\n",
        "\n"
       ]
      },
      {
       "output_type": "stream",
       "stream": "stdout",
       "text": [
        "y12 AUC =  "
       ]
      },
      {
       "output_type": "stream",
       "stream": "stdout",
       "text": [
        "0.991568300275\n",
        "Training is done, elapsed time: 2:41:07.258000\n",
        "Done, elapsed time: 2:48:29.994000\n"
       ]
      }
     ],
     "prompt_number": 17
    },
    {
     "cell_type": "code",
     "collapsed": false,
     "input": [
      "model"
     ],
     "language": "python",
     "metadata": {},
     "outputs": [
      {
       "metadata": {},
       "output_type": "pyout",
       "prompt_number": 18,
       "text": [
        "{'y1': RandomForestClassifier(bootstrap=True, compute_importances=None,\n",
        "             criterion='gini', max_depth=None, max_features='auto',\n",
        "             min_density=None, min_samples_leaf=1, min_samples_split=2,\n",
        "             n_estimators=200, n_jobs=4, oob_score=False, random_state=None,\n",
        "             verbose=0),\n",
        " 'y10': RandomForestClassifier(bootstrap=True, compute_importances=None,\n",
        "             criterion='gini', max_depth=None, max_features='auto',\n",
        "             min_density=None, min_samples_leaf=1, min_samples_split=2,\n",
        "             n_estimators=200, n_jobs=4, oob_score=False, random_state=None,\n",
        "             verbose=0),\n",
        " 'y11': RandomForestClassifier(bootstrap=True, compute_importances=None,\n",
        "             criterion='gini', max_depth=None, max_features='auto',\n",
        "             min_density=None, min_samples_leaf=1, min_samples_split=2,\n",
        "             n_estimators=200, n_jobs=4, oob_score=False, random_state=None,\n",
        "             verbose=0),\n",
        " 'y12': RandomForestClassifier(bootstrap=True, compute_importances=None,\n",
        "             criterion='gini', max_depth=None, max_features='auto',\n",
        "             min_density=None, min_samples_leaf=1, min_samples_split=2,\n",
        "             n_estimators=200, n_jobs=4, oob_score=False, random_state=None,\n",
        "             verbose=0),\n",
        " 'y13': RandomForestClassifier(bootstrap=True, compute_importances=None,\n",
        "             criterion='gini', max_depth=None, max_features='auto',\n",
        "             min_density=None, min_samples_leaf=1, min_samples_split=2,\n",
        "             n_estimators=200, n_jobs=4, oob_score=False, random_state=None,\n",
        "             verbose=0),\n",
        " 'y15': RandomForestClassifier(bootstrap=True, compute_importances=None,\n",
        "             criterion='gini', max_depth=None, max_features='auto',\n",
        "             min_density=None, min_samples_leaf=1, min_samples_split=2,\n",
        "             n_estimators=200, n_jobs=4, oob_score=False, random_state=None,\n",
        "             verbose=0),\n",
        " 'y16': RandomForestClassifier(bootstrap=True, compute_importances=None,\n",
        "             criterion='gini', max_depth=None, max_features='auto',\n",
        "             min_density=None, min_samples_leaf=1, min_samples_split=2,\n",
        "             n_estimators=200, n_jobs=4, oob_score=False, random_state=None,\n",
        "             verbose=0),\n",
        " 'y17': RandomForestClassifier(bootstrap=True, compute_importances=None,\n",
        "             criterion='gini', max_depth=None, max_features='auto',\n",
        "             min_density=None, min_samples_leaf=1, min_samples_split=2,\n",
        "             n_estimators=200, n_jobs=4, oob_score=False, random_state=None,\n",
        "             verbose=0),\n",
        " 'y18': RandomForestClassifier(bootstrap=True, compute_importances=None,\n",
        "             criterion='gini', max_depth=None, max_features='auto',\n",
        "             min_density=None, min_samples_leaf=1, min_samples_split=2,\n",
        "             n_estimators=200, n_jobs=4, oob_score=False, random_state=None,\n",
        "             verbose=0),\n",
        " 'y19': RandomForestClassifier(bootstrap=True, compute_importances=None,\n",
        "             criterion='gini', max_depth=None, max_features='auto',\n",
        "             min_density=None, min_samples_leaf=1, min_samples_split=2,\n",
        "             n_estimators=200, n_jobs=4, oob_score=False, random_state=None,\n",
        "             verbose=0),\n",
        " 'y2': RandomForestClassifier(bootstrap=True, compute_importances=None,\n",
        "             criterion='gini', max_depth=None, max_features='auto',\n",
        "             min_density=None, min_samples_leaf=1, min_samples_split=2,\n",
        "             n_estimators=200, n_jobs=4, oob_score=False, random_state=None,\n",
        "             verbose=0),\n",
        " 'y20': RandomForestClassifier(bootstrap=True, compute_importances=None,\n",
        "             criterion='gini', max_depth=None, max_features='auto',\n",
        "             min_density=None, min_samples_leaf=1, min_samples_split=2,\n",
        "             n_estimators=200, n_jobs=4, oob_score=False, random_state=None,\n",
        "             verbose=0),\n",
        " 'y21': RandomForestClassifier(bootstrap=True, compute_importances=None,\n",
        "             criterion='gini', max_depth=None, max_features='auto',\n",
        "             min_density=None, min_samples_leaf=1, min_samples_split=2,\n",
        "             n_estimators=200, n_jobs=4, oob_score=False, random_state=None,\n",
        "             verbose=0),\n",
        " 'y22': RandomForestClassifier(bootstrap=True, compute_importances=None,\n",
        "             criterion='gini', max_depth=None, max_features='auto',\n",
        "             min_density=None, min_samples_leaf=1, min_samples_split=2,\n",
        "             n_estimators=200, n_jobs=4, oob_score=False, random_state=None,\n",
        "             verbose=0),\n",
        " 'y23': RandomForestClassifier(bootstrap=True, compute_importances=None,\n",
        "             criterion='gini', max_depth=None, max_features='auto',\n",
        "             min_density=None, min_samples_leaf=1, min_samples_split=2,\n",
        "             n_estimators=200, n_jobs=4, oob_score=False, random_state=None,\n",
        "             verbose=0),\n",
        " 'y24': RandomForestClassifier(bootstrap=True, compute_importances=None,\n",
        "             criterion='gini', max_depth=None, max_features='auto',\n",
        "             min_density=None, min_samples_leaf=1, min_samples_split=2,\n",
        "             n_estimators=200, n_jobs=4, oob_score=False, random_state=None,\n",
        "             verbose=0),\n",
        " 'y25': RandomForestClassifier(bootstrap=True, compute_importances=None,\n",
        "             criterion='gini', max_depth=None, max_features='auto',\n",
        "             min_density=None, min_samples_leaf=1, min_samples_split=2,\n",
        "             n_estimators=200, n_jobs=4, oob_score=False, random_state=None,\n",
        "             verbose=0),\n",
        " 'y26': RandomForestClassifier(bootstrap=True, compute_importances=None,\n",
        "             criterion='gini', max_depth=None, max_features='auto',\n",
        "             min_density=None, min_samples_leaf=1, min_samples_split=2,\n",
        "             n_estimators=200, n_jobs=4, oob_score=False, random_state=None,\n",
        "             verbose=0),\n",
        " 'y27': RandomForestClassifier(bootstrap=True, compute_importances=None,\n",
        "             criterion='gini', max_depth=None, max_features='auto',\n",
        "             min_density=None, min_samples_leaf=1, min_samples_split=2,\n",
        "             n_estimators=200, n_jobs=4, oob_score=False, random_state=None,\n",
        "             verbose=0),\n",
        " 'y28': RandomForestClassifier(bootstrap=True, compute_importances=None,\n",
        "             criterion='gini', max_depth=None, max_features='auto',\n",
        "             min_density=None, min_samples_leaf=1, min_samples_split=2,\n",
        "             n_estimators=200, n_jobs=4, oob_score=False, random_state=None,\n",
        "             verbose=0),\n",
        " 'y29': RandomForestClassifier(bootstrap=True, compute_importances=None,\n",
        "             criterion='gini', max_depth=None, max_features='auto',\n",
        "             min_density=None, min_samples_leaf=1, min_samples_split=2,\n",
        "             n_estimators=200, n_jobs=4, oob_score=False, random_state=None,\n",
        "             verbose=0),\n",
        " 'y3': RandomForestClassifier(bootstrap=True, compute_importances=None,\n",
        "             criterion='gini', max_depth=None, max_features='auto',\n",
        "             min_density=None, min_samples_leaf=1, min_samples_split=2,\n",
        "             n_estimators=200, n_jobs=4, oob_score=False, random_state=None,\n",
        "             verbose=0),\n",
        " 'y30': RandomForestClassifier(bootstrap=True, compute_importances=None,\n",
        "             criterion='gini', max_depth=None, max_features='auto',\n",
        "             min_density=None, min_samples_leaf=1, min_samples_split=2,\n",
        "             n_estimators=200, n_jobs=4, oob_score=False, random_state=None,\n",
        "             verbose=0),\n",
        " 'y31': RandomForestClassifier(bootstrap=True, compute_importances=None,\n",
        "             criterion='gini', max_depth=None, max_features='auto',\n",
        "             min_density=None, min_samples_leaf=1, min_samples_split=2,\n",
        "             n_estimators=200, n_jobs=4, oob_score=False, random_state=None,\n",
        "             verbose=0),\n",
        " 'y32': RandomForestClassifier(bootstrap=True, compute_importances=None,\n",
        "             criterion='gini', max_depth=None, max_features='auto',\n",
        "             min_density=None, min_samples_leaf=1, min_samples_split=2,\n",
        "             n_estimators=200, n_jobs=4, oob_score=False, random_state=None,\n",
        "             verbose=0),\n",
        " 'y33': RandomForestClassifier(bootstrap=True, compute_importances=None,\n",
        "             criterion='gini', max_depth=None, max_features='auto',\n",
        "             min_density=None, min_samples_leaf=1, min_samples_split=2,\n",
        "             n_estimators=200, n_jobs=4, oob_score=False, random_state=None,\n",
        "             verbose=0),\n",
        " 'y4': RandomForestClassifier(bootstrap=True, compute_importances=None,\n",
        "             criterion='gini', max_depth=None, max_features='auto',\n",
        "             min_density=None, min_samples_leaf=1, min_samples_split=2,\n",
        "             n_estimators=200, n_jobs=4, oob_score=False, random_state=None,\n",
        "             verbose=0),\n",
        " 'y5': RandomForestClassifier(bootstrap=True, compute_importances=None,\n",
        "             criterion='gini', max_depth=None, max_features='auto',\n",
        "             min_density=None, min_samples_leaf=1, min_samples_split=2,\n",
        "             n_estimators=200, n_jobs=4, oob_score=False, random_state=None,\n",
        "             verbose=0),\n",
        " 'y6': RandomForestClassifier(bootstrap=True, compute_importances=None,\n",
        "             criterion='gini', max_depth=None, max_features='auto',\n",
        "             min_density=None, min_samples_leaf=1, min_samples_split=2,\n",
        "             n_estimators=200, n_jobs=4, oob_score=False, random_state=None,\n",
        "             verbose=0),\n",
        " 'y7': RandomForestClassifier(bootstrap=True, compute_importances=None,\n",
        "             criterion='gini', max_depth=None, max_features='auto',\n",
        "             min_density=None, min_samples_leaf=1, min_samples_split=2,\n",
        "             n_estimators=200, n_jobs=4, oob_score=False, random_state=None,\n",
        "             verbose=0),\n",
        " 'y8': RandomForestClassifier(bootstrap=True, compute_importances=None,\n",
        "             criterion='gini', max_depth=None, max_features='auto',\n",
        "             min_density=None, min_samples_leaf=1, min_samples_split=2,\n",
        "             n_estimators=200, n_jobs=4, oob_score=False, random_state=None,\n",
        "             verbose=0),\n",
        " 'y9': RandomForestClassifier(bootstrap=True, compute_importances=None,\n",
        "             criterion='gini', max_depth=None, max_features='auto',\n",
        "             min_density=None, min_samples_leaf=1, min_samples_split=2,\n",
        "             n_estimators=200, n_jobs=4, oob_score=False, random_state=None,\n",
        "             verbose=0)}"
       ]
      }
     ],
     "prompt_number": 18
    },
    {
     "cell_type": "code",
     "collapsed": false,
     "input": [
      "with open('./submission_new.csv', 'w') as outfile:\n",
      "    outfile.write('id_label, pred\\n')\n",
      "    output = {}\n",
      "    n = range(len(test))\n",
      "    #n = range(100)\n",
      "  \n",
      "    for k in K:    \n",
      "        if k != 'y14' and  k != 'id':\n",
      "            output[k] = model[k].predict_proba(test.drop('id', 1))\n",
      "                     \n",
      "    for i in n:\n",
      "        if i % 100000 == 0:\n",
      "            print i\n",
      "        for k in K:\n",
      "            if k == 'y14':\n",
      "                outfile.write('%s_y14,0.0\\n' % test.id[i])\n",
      "            elif k!= 'id':\n",
      "                outfile.write('%s_%s,%s\\n' % (test.id[i], k, output[k][i,1]))"
     ],
     "language": "python",
     "metadata": {},
     "outputs": [
      {
       "output_type": "stream",
       "stream": "stdout",
       "text": [
        "0\n",
        "100000"
       ]
      },
      {
       "output_type": "stream",
       "stream": "stdout",
       "text": [
        "\n",
        "200000"
       ]
      },
      {
       "output_type": "stream",
       "stream": "stdout",
       "text": [
        "\n",
        "300000"
       ]
      },
      {
       "output_type": "stream",
       "stream": "stdout",
       "text": [
        "\n",
        "400000"
       ]
      },
      {
       "output_type": "stream",
       "stream": "stdout",
       "text": [
        "\n",
        "500000"
       ]
      },
      {
       "output_type": "stream",
       "stream": "stdout",
       "text": [
        "\n"
       ]
      }
     ],
     "prompt_number": 61
    },
    {
     "cell_type": "code",
     "collapsed": false,
     "input": [
      "output['y1']"
     ],
     "language": "python",
     "metadata": {},
     "outputs": [
      {
       "metadata": {},
       "output_type": "pyout",
       "prompt_number": 55,
       "text": [
        "array([[ 0.965,  0.035],\n",
        "       [ 0.965,  0.035],\n",
        "       [ 0.93 ,  0.07 ],\n",
        "       ..., \n",
        "       [ 0.985,  0.015],\n",
        "       [ 1.   ,  0.   ],\n",
        "       [ 0.995,  0.005]])"
       ]
      }
     ],
     "prompt_number": 55
    },
    {
     "cell_type": "code",
     "collapsed": false,
     "input": [
      "model"
     ],
     "language": "python",
     "metadata": {},
     "outputs": [
      {
       "ename": "NameError",
       "evalue": "name 'model' is not defined",
       "output_type": "pyerr",
       "traceback": [
        "\u001b[1;31m---------------------------------------------------------------------------\u001b[0m\n\u001b[1;31mNameError\u001b[0m                                 Traceback (most recent call last)",
        "\u001b[1;32m<ipython-input-1-458d5f1afc81>\u001b[0m in \u001b[0;36m<module>\u001b[1;34m()\u001b[0m\n\u001b[1;32m----> 1\u001b[1;33m \u001b[0mmodel\u001b[0m\u001b[1;33m\u001b[0m\u001b[0m\n\u001b[0m",
        "\u001b[1;31mNameError\u001b[0m: name 'model' is not defined"
       ]
      }
     ],
     "prompt_number": 1
    },
    {
     "cell_type": "code",
     "collapsed": false,
     "input": [
      "pwd"
     ],
     "language": "python",
     "metadata": {},
     "outputs": [
      {
       "metadata": {},
       "output_type": "pyout",
       "prompt_number": 2,
       "text": [
        "u'C:\\\\Users\\\\SYan\\\\Desktop\\\\IPython Notebooks'"
       ]
      }
     ],
     "prompt_number": 2
    },
    {
     "cell_type": "code",
     "collapsed": false,
     "input": [
      "cd '../Kaggle/Trade Shift/'"
     ],
     "language": "python",
     "metadata": {},
     "outputs": [
      {
       "output_type": "stream",
       "stream": "stdout",
       "text": [
        "C:\\Users\\SYan\\Desktop\\Kaggle\\Trade Shift\n"
       ]
      }
     ],
     "prompt_number": 3
    },
    {
     "cell_type": "code",
     "collapsed": false,
     "input": [
      "load hashing_feature.py"
     ],
     "language": "python",
     "metadata": {},
     "outputs": [],
     "prompt_number": 4
    },
    {
     "cell_type": "code",
     "collapsed": false,
     "input": [
      "with open('./submission_new.csv', 'w') as outfile:\n",
      "    outfile.write('id_label,pred\\n')\n",
      "    output = {}\n",
      "    n = range(len(test))\n",
      "    #n = range(100)\n",
      "    \n",
      "    K = range(33)\n",
      "    for k in K:\n",
      "        key = 'y' + str(k + 1)\n",
      "        if k != 13:\n",
      "            output[key] = model[key].predict_proba(test.drop('id', 1))\n",
      "                     \n",
      "    for i in n:\n",
      "        if i % 100000 == 0:\n",
      "            print i\n",
      "        for k in K:\n",
      "            key = 'y' + str(k + 1) \n",
      "            if k == 13:\n",
      "                outfile.write('%s_y14,0.0\\n' % test.id[i])\n",
      "            else:\n",
      "                outfile.write('%s_%s,%s\\n' % (test.id[i], key, str(output[key][i,1])))\n",
      "                #val = output[key][i,1]\n",
      "                #if val < 1e-10:\n",
      "                    #outfile.write('%s_%s,%s\\n' % (test.id[i], key, str(val + 1e-10)))\n",
      "                #elif val == 1.0:\n",
      "                    #outfile.write('%s_%s,%s\\n' % (test.id[i], key, str(val - 1e-10)))\n",
      "                #else:\n",
      "                    #outfile.write('%s_%s,%s\\n' % (test.id[i], key, str(val)))\n",
      "           \n",
      "\n",
      "    \n",
      "outfile.close()"
     ],
     "language": "python",
     "metadata": {},
     "outputs": [
      {
       "output_type": "stream",
       "stream": "stdout",
       "text": [
        "0\n",
        "100000"
       ]
      },
      {
       "output_type": "stream",
       "stream": "stdout",
       "text": [
        "\n",
        "200000"
       ]
      },
      {
       "output_type": "stream",
       "stream": "stdout",
       "text": [
        "\n",
        "300000"
       ]
      },
      {
       "output_type": "stream",
       "stream": "stdout",
       "text": [
        "\n",
        "400000"
       ]
      },
      {
       "output_type": "stream",
       "stream": "stdout",
       "text": [
        "\n",
        "500000"
       ]
      },
      {
       "output_type": "stream",
       "stream": "stdout",
       "text": [
        "\n"
       ]
      }
     ],
     "prompt_number": 72
    },
    {
     "cell_type": "code",
     "collapsed": false,
     "input": [
      "load hashing_feature.py"
     ],
     "language": "python",
     "metadata": {},
     "outputs": [],
     "prompt_number": 129
    },
    {
     "cell_type": "code",
     "collapsed": false,
     "input": [
      "\"\"\"\n",
      "Created on Mon Oct 13 13:40:21 2014\n",
      "\n",
      "@author: SYan\n",
      "\"\"\"\n",
      "\n",
      "from datetime import datetime\n",
      "\n",
      "import matplotlib.pyplot as plt\n",
      "import numpy as np\n",
      "import pandas as pd\n",
      "import random\n",
      "\n",
      "from sklearn.ensemble import RandomForestClassifier\n",
      "from sklearn import preprocessing\n",
      "from sklearn import metrics\n",
      "\n",
      "# parameters #################################################################\n",
      "\n",
      "start = datetime.now()\n",
      "\n",
      "#\"\"\"\n",
      "# Only loading one time\n",
      "print \"Step0: Loading raw data\"\n",
      "raw_train = pd.read_csv('train.csv', header=0)\n",
      "raw_label = pd.read_csv('trainLabels.csv', header=0)\n",
      "raw_test = pd.read_csv('test.csv', header=0)\n",
      "\n",
      "print('Data loading is done! elapsed time: %s' % str(datetime.now() - start))\n",
      "\n",
      "#\"\"\"\n",
      "\n",
      "#\"\"\"\n",
      "\n",
      "print \"Step1: Sampling\"\n",
      "nSample = 10000\n",
      "rows = random.sample(raw_train.index, nSample)\n",
      "train = raw_train.ix[rows]\n",
      "label = raw_label.ix[rows]\n",
      "test = raw_test\n",
      "\n",
      "del raw_test\n",
      "del raw_train\n",
      "del raw_label\n",
      "\n",
      "split = 0.8\n",
      "rows = random.sample(train.index, int(split * nSample))\n",
      "\n",
      "temp = train\n",
      "train = temp.ix[rows] \n",
      "validation = temp.drop(rows)\n",
      "\n",
      "temp = label\n",
      "label = temp.ix[rows]\n",
      "label_validation = temp.drop(rows)\n",
      "del temp\n",
      "\n",
      "D = 2 ** 18  # number of weights use for each model, we have 32 of them\n",
      "alpha = .1   # learning rate for sgd optimization\n",
      "\n",
      "\n",
      "#train = train.append(label)\n",
      "#train.dropna()\n",
      "\n",
      "# function, generator definitions ############################################\n",
      "\n",
      "#     bounded logarithmic loss of p given y\n",
      "def freq(v):\n",
      "    table = {}\n",
      "    for key in v:\n",
      "        if not key in table:\n",
      "            table[key] = 1\n",
      "        else:\n",
      "            table[key] += 1\n",
      "        \n",
      "    return table\n",
      "    \n",
      "\n",
      "def lookup(hashT, v):\n",
      "    temp = v\n",
      "    ind = v.index\n",
      "    count = 0\n",
      "    \n",
      "    for key in v:\n",
      "        temp[ind[count]] = hashT[key]\n",
      "        count = count + 1\n",
      "    return temp\n",
      "        \n",
      "\n",
      "\n",
      "#hasher = FeatureHasher(input_type = 'string')\n",
      "print \"Step2: Hashing Frequency Table\"\n",
      "a = set(train)\n",
      "table = {}\n",
      "\n",
      "for i in a:\n",
      "    if i == 'id':\n",
      "        continue\n",
      "    if train[i].dtypes == 'object':\n",
      "        #print i\n",
      "        temp = train[i].fillna('other')\n",
      "        table = freq(temp)\n",
      "        train[i] = lookup(table, temp)\n",
      "        \n",
      "        temp = validation[i].fillna('other')\n",
      "        table = freq(temp)\n",
      "        validation[i] = lookup(table, temp)\n",
      "    \n",
      "        temp = test[i].fillna('other')\n",
      "        table = freq(temp)\n",
      "        test[i] = lookup(table, temp)  \n",
      "    else:\n",
      "        mean = train[i].mean()\n",
      "        temp = train[i].fillna(mean)\n",
      "        train[i] = temp\n",
      "        \n",
      "        temp = validation[i].fillna(mean)\n",
      "        validation[i] = temp\n",
      "        \n",
      "        temp = test[i].fillna(mean)\n",
      "        test[i] = temp\n",
      "    # scaling    \n",
      "    train[i] = preprocessing.scale(train[i].astype('float'))\n",
      "    validation[i] = preprocessing.scale(validation[i].astype('float'))\n",
      "    test[i] = preprocessing.scale(test[i].astype('float'))\n",
      "    \n",
      "    if any(train[i].isnull()):\n",
      "        print i\n",
      "\n",
      "del temp\n",
      "del table\n",
      "p1 = datetime.now()\n",
      "print('Sampling and hashing are done, elapsed time: %s' % str(p1 - start))\n",
      "\n",
      "#\"\"\"\n",
      "\n",
      "# Model training ###################################################\n",
      "        \n",
      "print \"Step3: Start training models\"       \n",
      "\n",
      "\n",
      "# a list for range(0, 33) - 13, no need to learn y14 since it is always 0\n",
      "K = set(label)\n",
      "count = 0\n",
      "model = {}\n",
      "\n",
      "outfile = open('./submission_new.csv', 'w')\n",
      "outfile.write('id_label,pred\\n')\n",
      "\n",
      "log_loss = {}\n",
      "\n",
      "for k in K:\n",
      "    if k != 'y14' and  k != 'id':\n",
      "        forest = RandomForestClassifier(n_estimators = 100, criterion = \"entropy\", verbose = 0, n_jobs = 4, min_samples_split = 50)\n",
      "       # No 'y14' or 'id'    \n",
      "        model[k] = forest.fit(train.drop('id', 1), label[k])\n",
      "        output_validation = model[k].predict_proba(validation.drop('id', 1))\n",
      "\tlog_loss.append( metrics.log_loss(label_validation[k].as_matrix(), output_validation) )\n",
      "        #print \"\\n\", k, \"AUC = \", metrics.roc_auc_score(label_validation[k], output_validation[:,1])\n",
      "\tprint \"\\n\", k, \"Log_Loss = \", log_loss[count]\n",
      "        count += 1\n",
      "\n",
      "print('\\nTotal Log Loss = ', sum(log_loss) / 33, '\\n')\n",
      "p1 = datetime.now()\n",
      "print('Training is done, elapsed time: %s' % str(p2 - p1))\n",
      "\n",
      "# Saving submission #######################################################################\n",
      "\n",
      "with open('./submission_new.csv', 'w') as outfile:\n",
      "    outfile.write('id_label, pred\\n')\n",
      "    output = {}\n",
      "    n = range(len(test))\n",
      "    #n = range(100)\n",
      "  \n",
      "    for k in K:    \n",
      "        if k != 'y14' and  k != 'id':\n",
      "            output[k] = model[k].predict_proba(test.drop('id', 1))\n",
      "                     \n",
      "    for i in n:\n",
      "        if i % 100000 == 0:\n",
      "            print i\n",
      "        for k in K:\n",
      "            if k == 'y14':\n",
      "                outfile.write('%s_y14,0.0\\n' % test.id[i])\n",
      "            elif k!= 'id':\n",
      "                outfile.write('%s_%s,%s\\n' % (test.id[i], k, output[k][i,1]))\n",
      "    \n",
      "outfile.close()\n",
      "print('Dumping is done, elapsed time: %s' % str(datetime.now() - p2))           \n",
      "\n",
      "print('Done, elapsed time: %s' % str(datetime.now() - start))\n"
     ],
     "language": "python",
     "metadata": {},
     "outputs": [
      {
       "output_type": "stream",
       "stream": "stdout",
       "text": [
        "Step0: Loading raw data\n",
        "Data loading is done! elapsed time: 0:02:04.426000"
       ]
      },
      {
       "output_type": "stream",
       "stream": "stdout",
       "text": [
        "\n",
        "Step1: Sampling\n",
        "Step2: Hashing Frequency Table"
       ]
      },
      {
       "output_type": "stream",
       "stream": "stdout",
       "text": [
        "\n",
        "Sampling and hashing are done, elapsed time: 0:07:42.744000"
       ]
      },
      {
       "output_type": "stream",
       "stream": "stdout",
       "text": [
        "\n",
        "Step3: Start training models\n",
        "\n"
       ]
      },
      {
       "output_type": "stream",
       "stream": "stdout",
       "text": [
        "y9 Log_Loss =  0.0892624128252\n",
        "\n"
       ]
      },
      {
       "output_type": "stream",
       "stream": "stdout",
       "text": [
        "y8 Log_Loss =  0.00292740405608\n",
        "\n"
       ]
      },
      {
       "output_type": "stream",
       "stream": "stdout",
       "text": [
        "y1 Log_Loss =  0.016911766404\n",
        "\n"
       ]
      },
      {
       "output_type": "stream",
       "stream": "stdout",
       "text": [
        "y3 Log_Loss =  0.0211944356547\n",
        "\n"
       ]
      },
      {
       "output_type": "stream",
       "stream": "stdout",
       "text": [
        "y2 Log_Loss =  0.00479230987495\n",
        "\n"
       ]
      },
      {
       "output_type": "stream",
       "stream": "stdout",
       "text": [
        "y5 Log_Loss =  -0.0\n",
        "\n"
       ]
      },
      {
       "output_type": "stream",
       "stream": "stdout",
       "text": [
        "y4 Log_Loss =  0.0178719953103\n",
        "\n"
       ]
      },
      {
       "output_type": "stream",
       "stream": "stdout",
       "text": [
        "y7 Log_Loss =  0.0862240585331\n",
        "\n"
       ]
      },
      {
       "output_type": "stream",
       "stream": "stdout",
       "text": [
        "y6 Log_Loss =  0.101992671072\n",
        "\n"
       ]
      },
      {
       "output_type": "stream",
       "stream": "stdout",
       "text": [
        "y28 Log_Loss =  0.0326628819192\n",
        "\n"
       ]
      },
      {
       "output_type": "stream",
       "stream": "stdout",
       "text": [
        "y29 Log_Loss =  0.0715520666259\n",
        "\n"
       ]
      },
      {
       "output_type": "stream",
       "stream": "stdout",
       "text": [
        "y20 Log_Loss =  0.00791131786194\n",
        "\n"
       ]
      },
      {
       "output_type": "stream",
       "stream": "stdout",
       "text": [
        "y21 Log_Loss =  0.0194661425937\n",
        "\n"
       ]
      },
      {
       "output_type": "stream",
       "stream": "stdout",
       "text": [
        "y22 Log_Loss =  0.0218020720157\n",
        "\n"
       ]
      },
      {
       "output_type": "stream",
       "stream": "stdout",
       "text": [
        "y23 Log_Loss =  0.00384438130077\n",
        "\n"
       ]
      },
      {
       "output_type": "stream",
       "stream": "stdout",
       "text": [
        "y24 Log_Loss =  0.0414885869609\n",
        "\n"
       ]
      },
      {
       "output_type": "stream",
       "stream": "stdout",
       "text": [
        "y25 Log_Loss =  0.00529342935807\n",
        "\n"
       ]
      },
      {
       "output_type": "stream",
       "stream": "stdout",
       "text": [
        "y26 Log_Loss =  0.0468145528398\n",
        "\n"
       ]
      },
      {
       "output_type": "stream",
       "stream": "stdout",
       "text": [
        "y27 Log_Loss =  0.0323860734578\n",
        "\n"
       ]
      },
      {
       "output_type": "stream",
       "stream": "stdout",
       "text": [
        "y33 Log_Loss =  0.304610789025\n",
        "\n"
       ]
      },
      {
       "output_type": "stream",
       "stream": "stdout",
       "text": [
        "y32 Log_Loss =  0.0784883872985\n",
        "\n"
       ]
      },
      {
       "output_type": "stream",
       "stream": "stdout",
       "text": [
        "y31 Log_Loss =  0.0629592659952\n",
        "\n"
       ]
      },
      {
       "output_type": "stream",
       "stream": "stdout",
       "text": [
        "y30 Log_Loss =  0.0545522206786\n",
        "\n"
       ]
      },
      {
       "output_type": "stream",
       "stream": "stdout",
       "text": [
        "y19 Log_Loss =  0.000630978721116\n",
        "\n"
       ]
      },
      {
       "output_type": "stream",
       "stream": "stdout",
       "text": [
        "y18 Log_Loss =  0.000228510492288\n",
        "\n"
       ]
      },
      {
       "output_type": "stream",
       "stream": "stdout",
       "text": [
        "y15 Log_Loss =  0.0105729371034\n",
        "\n"
       ]
      },
      {
       "output_type": "stream",
       "stream": "stdout",
       "text": [
        "y17 Log_Loss =  -0.0\n",
        "\n"
       ]
      },
      {
       "output_type": "stream",
       "stream": "stdout",
       "text": [
        "y16 Log_Loss =  0.0251410510255\n",
        "\n"
       ]
      },
      {
       "output_type": "stream",
       "stream": "stdout",
       "text": [
        "y11 Log_Loss =  0.00504130613807\n",
        "\n"
       ]
      },
      {
       "output_type": "stream",
       "stream": "stdout",
       "text": [
        "y10 Log_Loss =  0.0419608380162\n",
        "\n"
       ]
      },
      {
       "output_type": "stream",
       "stream": "stdout",
       "text": [
        "y13 Log_Loss =  0.0548974730368\n",
        "\n"
       ]
      },
      {
       "output_type": "stream",
       "stream": "stdout",
       "text": [
        "y12 Log_Loss =  0.100075698734\n",
        "('\\nTotal Log Loss = ', 0.041319939846343842, '\\n')\n",
        "Training is done, elapsed time: -2 days, 22:54:33.453000\n",
        "0"
       ]
      },
      {
       "output_type": "stream",
       "stream": "stdout",
       "text": [
        "\n"
       ]
      },
      {
       "ename": "IndexError",
       "evalue": "index 1 is out of bounds for axis 1 with size 1",
       "output_type": "pyerr",
       "traceback": [
        "\u001b[1;31m---------------------------------------------------------------------------\u001b[0m\n\u001b[1;31mIndexError\u001b[0m                                Traceback (most recent call last)",
        "\u001b[1;32m<ipython-input-131-a262ba87fcae>\u001b[0m in \u001b[0;36m<module>\u001b[1;34m()\u001b[0m\n\u001b[0;32m    184\u001b[0m                 \u001b[0moutfile\u001b[0m\u001b[1;33m.\u001b[0m\u001b[0mwrite\u001b[0m\u001b[1;33m(\u001b[0m\u001b[1;34m'%s_y14,0.0\\n'\u001b[0m \u001b[1;33m%\u001b[0m \u001b[0mtest\u001b[0m\u001b[1;33m.\u001b[0m\u001b[0mid\u001b[0m\u001b[1;33m[\u001b[0m\u001b[0mi\u001b[0m\u001b[1;33m]\u001b[0m\u001b[1;33m)\u001b[0m\u001b[1;33m\u001b[0m\u001b[0m\n\u001b[0;32m    185\u001b[0m             \u001b[1;32melif\u001b[0m \u001b[0mk\u001b[0m\u001b[1;33m!=\u001b[0m \u001b[1;34m'id'\u001b[0m\u001b[1;33m:\u001b[0m\u001b[1;33m\u001b[0m\u001b[0m\n\u001b[1;32m--> 186\u001b[1;33m                 \u001b[0moutfile\u001b[0m\u001b[1;33m.\u001b[0m\u001b[0mwrite\u001b[0m\u001b[1;33m(\u001b[0m\u001b[1;34m'%s_%s,%s\\n'\u001b[0m \u001b[1;33m%\u001b[0m \u001b[1;33m(\u001b[0m\u001b[0mtest\u001b[0m\u001b[1;33m.\u001b[0m\u001b[0mid\u001b[0m\u001b[1;33m[\u001b[0m\u001b[0mi\u001b[0m\u001b[1;33m]\u001b[0m\u001b[1;33m,\u001b[0m \u001b[0mk\u001b[0m\u001b[1;33m,\u001b[0m \u001b[0moutput\u001b[0m\u001b[1;33m[\u001b[0m\u001b[0mk\u001b[0m\u001b[1;33m]\u001b[0m\u001b[1;33m[\u001b[0m\u001b[0mi\u001b[0m\u001b[1;33m,\u001b[0m\u001b[1;36m1\u001b[0m\u001b[1;33m]\u001b[0m\u001b[1;33m)\u001b[0m\u001b[1;33m)\u001b[0m\u001b[1;33m\u001b[0m\u001b[0m\n\u001b[0m\u001b[0;32m    187\u001b[0m \u001b[1;33m\u001b[0m\u001b[0m\n\u001b[0;32m    188\u001b[0m \u001b[0moutfile\u001b[0m\u001b[1;33m.\u001b[0m\u001b[0mclose\u001b[0m\u001b[1;33m(\u001b[0m\u001b[1;33m)\u001b[0m\u001b[1;33m\u001b[0m\u001b[0m\n",
        "\u001b[1;31mIndexError\u001b[0m: index 1 is out of bounds for axis 1 with size 1"
       ]
      }
     ],
     "prompt_number": 131
    },
    {
     "cell_type": "code",
     "collapsed": false,
     "input": [
      "key"
     ],
     "language": "python",
     "metadata": {},
     "outputs": [
      {
       "metadata": {},
       "output_type": "pyout",
       "prompt_number": 134,
       "text": [
        "'y5'"
       ]
      }
     ],
     "prompt_number": 134
    },
    {
     "cell_type": "code",
     "collapsed": false,
     "input": [
      "output['y5']"
     ],
     "language": "python",
     "metadata": {},
     "outputs": [
      {
       "metadata": {},
       "output_type": "pyout",
       "prompt_number": 135,
       "text": [
        "array([[ 1.],\n",
        "       [ 1.],\n",
        "       [ 1.],\n",
        "       ..., \n",
        "       [ 1.],\n",
        "       [ 1.],\n",
        "       [ 1.]])"
       ]
      }
     ],
     "prompt_number": 135
    },
    {
     "cell_type": "code",
     "collapsed": false,
     "input": [
      "sorted(log_loss)"
     ],
     "language": "python",
     "metadata": {},
     "outputs": [
      {
       "metadata": {},
       "output_type": "pyout",
       "prompt_number": 137,
       "text": [
        "[-0.0,\n",
        " -0.0,\n",
        " 0.00022851049228781424,\n",
        " 0.00063097872111579027,\n",
        " 0.0029274040560787729,\n",
        " 0.0038443813007659486,\n",
        " 0.0047923098749506178,\n",
        " 0.0050413061380663099,\n",
        " 0.0052934293580725982,\n",
        " 0.0079113178619402563,\n",
        " 0.010572937103383985,\n",
        " 0.016911766404015722,\n",
        " 0.017871995310312971,\n",
        " 0.01946614259372878,\n",
        " 0.021194435654650026,\n",
        " 0.021802072015683335,\n",
        " 0.025141051025490538,\n",
        " 0.032386073457787781,\n",
        " 0.032662881919211559,\n",
        " 0.041488586960882805,\n",
        " 0.041960838016221289,\n",
        " 0.046814552839800766,\n",
        " 0.054552220678647088,\n",
        " 0.05489747303682329,\n",
        " 0.062959265995242986,\n",
        " 0.071552066625919453,\n",
        " 0.078488387298515691,\n",
        " 0.086224058533052247,\n",
        " 0.089262412825200324,\n",
        " 0.10007569873378523,\n",
        " 0.1019926710723715,\n",
        " 0.30461078902534128]"
       ]
      }
     ],
     "prompt_number": 137
    },
    {
     "cell_type": "code",
     "collapsed": false,
     "input": [
      "pwd"
     ],
     "language": "python",
     "metadata": {},
     "outputs": [
      {
       "metadata": {},
       "output_type": "pyout",
       "prompt_number": 2,
       "text": [
        "u'C:\\\\Users\\\\SYan\\\\Desktop\\\\Kaggle\\\\Trade Shift'"
       ]
      }
     ],
     "prompt_number": 2
    },
    {
     "cell_type": "code",
     "collapsed": false,
     "input": [
      "cd '../Kaggle/Trade Shift'"
     ],
     "language": "python",
     "metadata": {},
     "outputs": [
      {
       "output_type": "stream",
       "stream": "stdout",
       "text": [
        "C:\\Users\\SYan\\Desktop\\Kaggle\\Trade Shift\n"
       ]
      }
     ],
     "prompt_number": 1
    },
    {
     "cell_type": "code",
     "collapsed": false,
     "input": [
      "load hashing_feature_new.py"
     ],
     "language": "python",
     "metadata": {},
     "outputs": [],
     "prompt_number": 2
    },
    {
     "cell_type": "code",
     "collapsed": false,
     "input": [
      "\"\"\"\n",
      "Created on Mon Oct 13 13:40:21 2014\n",
      "\n",
      "@author: SYan\n",
      "\"\"\"\n",
      "\n",
      "from datetime import datetime\n",
      "\n",
      "import matplotlib.pyplot as plt\n",
      "import numpy as np\n",
      "import pandas as pd\n",
      "import random\n",
      "\n",
      "from sklearn.ensemble import RandomForestClassifier\n",
      "from sklearn import preprocessing\n",
      "from sklearn import metrics\n",
      "\n",
      "# parameters #################################################################\n",
      "\n",
      "start = datetime.now()\n",
      "\n",
      "#\"\"\"\n",
      "# Only loading one time\n",
      "print \"Step0: Loading raw data\"\n",
      "raw_train = pd.read_csv('train.csv', header=0, nrows = 10000)\n",
      "raw_label = pd.read_csv('trainLabels.csv', header=0, nrows = 10000)\n",
      "raw_test = pd.read_csv('test.csv', header=0, nrows = 10000)\n",
      "\n",
      "print('Data loading is done! elapsed time: %s' % str(datetime.now() - start))\n",
      "\n",
      "#\"\"\"\n",
      "\n",
      "#\"\"\"\n",
      "\n",
      "print \"Step1: Sampling\"\n",
      "nSample = 10000\n",
      "rows = random.sample(raw_train.index, nSample)\n",
      "train = raw_train.ix[rows]\n",
      "label = raw_label.ix[rows]\n",
      "test = raw_test\n",
      "\n",
      "del raw_test\n",
      "del raw_train\n",
      "del raw_label\n",
      "\n",
      "\n",
      "D = 2 ** 18  # number of weights use for each model, we have 32 of them\n",
      "alpha = .1   # learning rate for sgd optimization\n",
      "\n",
      "\n",
      "#train = train.append(label)\n",
      "#train.dropna()\n",
      "\n",
      "# function, generator definitions ############################################\n",
      "\n",
      "#     bounded logarithmic loss of p given y\n",
      "def freq(v, table):\n",
      "    for key in v:\n",
      "        if not key in table or key == 'YES':\n",
      "            table[key] = 1\n",
      "        elif key == 'NO':\n",
      "            table[key] = 0\n",
      "        elif key == '' or key == '-999':\n",
      "            table[key] = -999\n",
      "        else:\n",
      "            table[key] += 1\n",
      "        \n",
      "    return table\n",
      "    \n",
      "\n",
      "def lookup(hashT, v):\n",
      "    ind = v.index\n",
      "    count = 0\n",
      "    \n",
      "    for key in v:\n",
      "        if key in hashT:\n",
      "            v[ind[count]] = hashT[key]\n",
      "        else:\n",
      "            v[ind[count]] = 0\n",
      "        count = count + 1\n",
      "    return v\n",
      "\n",
      "\n",
      "#hasher = FeatureHasher(input_type = 'string')\n",
      "print \"Step2: Hashing Frequency Table\"\n",
      "a = set(train)\n",
      "table = {}\n",
      "train = train.fillna('-999')\n",
      "test = test.fillna('-999')\n",
      "\n",
      "for i in a:\n",
      "    if i == 'id':\n",
      "        continue\n",
      "    if train[i].dtypes == 'object':\n",
      "        #print i\n",
      "        table = freq(train[i], table)\n",
      "\n",
      "for i in a:\n",
      "    if i == 'id':\n",
      "        continue\n",
      "    if train[i].dtypes == 'object':\n",
      "        #print i\n",
      "        train[i] = lookup(table, train[i])\n",
      "        test[i] = lookup(table, test[i])\n",
      "\n",
      "# Split the train into training and validation\n",
      "split = 0.8\n",
      "rows = random.sample(train.index, int(split * nSample))\n",
      "\n",
      "temp = train\n",
      "train = temp.ix[rows]\n",
      "validation = temp.drop(rows)\n",
      "\n",
      "temp = label\n",
      "label = temp.ix[rows]\n",
      "label_validation = temp.drop(rows)\n",
      "del temp\n",
      "\n",
      "# scaling    \n",
      "#train[i] = preprocessing.scale(train[i].astype('float'))\n",
      "#validation[i] = preprocessing.scale(validation[i].astype('float'))\n",
      "#test[i] = preprocessing.scale(test[i].astype('float'))\n",
      "\n",
      "del table\n",
      "p1 = datetime.now()\n",
      "print('Sampling and hashing are done, elapsed time: %s' % str(p1 - start))\n",
      "\n",
      "#\"\"\"\n",
      "\n",
      "# Model training ###################################################\n",
      "'''\n",
      "print \"Step3: Start training models\"       \n",
      "\n",
      "# a list for range(0, 33) - 13, no need to learn y14 since it is always 0\n",
      "K = set(label)\n",
      "count = 0\n",
      "model = {}\n",
      "log_loss = {}\n",
      "\n",
      "for k in K:\n",
      "        forest = RandomForestClassifier(n_estimators = 40, criterion = \"gini\", verbose = 0, n_jobs = 4, min_samples_split = 50)\n",
      "       # No 'y14' or 'id'    \n",
      "        model[k] = forest.fit(train.drop('id', 1), label[k])\n",
      "        output_validation = model[k].predict_proba(validation.drop('id', 1))\n",
      "        log_loss[k] = metrics.log_loss(label_validation[k].as_matrix(), output_validation)\n",
      "        #print \"\\n\", k, \"AUC = \", metrics.roc_auc_score(label_validation[k], output_validation[:,1])\n",
      "        print \"\\n\", k, \"Log_Loss = \", log_loss[k]\n",
      "        count += 1\n",
      "\n",
      "print('\\nTotal Log Loss = ', sum(log_loss.values()) / 33, '\\n')\n",
      "p2 = datetime.now()\n",
      "print('Training is done, elapsed time: %s' % str(p2 - p1))\n",
      "\n",
      "# Saving submission #######################################################################\n",
      "\n",
      "with open('./submission_new.csv', 'w') as outfile:\n",
      "    outfile.write('id_label, pred\\n')\n",
      "    output = {}\n",
      "    n = range(len(test))\n",
      "    #n = range(100)\n",
      "\n",
      "    K = range(33)\n",
      "    for k in K:\n",
      "        key = 'y' + str(k + 1)\n",
      "        if k != 13:\n",
      "            output[key] = model[key].predict_proba(test.drop('id', 1))\n",
      "                     \n",
      "    for i in n:\n",
      "        if i % 100000 == 0:\n",
      "            print i\n",
      "        for k in K:\n",
      "            key = 'y' + str(k + 1) \n",
      "            if k == 13:\n",
      "                outfile.write('%s_y14,0.0\\n' % test.id[i])\n",
      "            else:\n",
      "                outfile.write('%s_%s,%s\\n' % (test.id[i], key, str(output[key][i,1])))\n",
      "    \n",
      "outfile.close()\n",
      "print('Dumping is done, elapsed time: %s' % str(datetime.now() - p2))           \n",
      "\n",
      "print('Done, elapsed time: %s' % str(datetime.now() - start))\n",
      "'''"
     ],
     "language": "python",
     "metadata": {},
     "outputs": [
      {
       "output_type": "stream",
       "stream": "stdout",
       "text": [
        "Step0: Loading raw data\n",
        "Data loading is done! elapsed time: 0:00:00.593000"
       ]
      },
      {
       "output_type": "stream",
       "stream": "stdout",
       "text": [
        "\n",
        "Step1: Sampling\n",
        "Step2: Hashing Frequency Table\n",
        "Sampling and hashing are done, elapsed time: 0:00:11.363000"
       ]
      },
      {
       "output_type": "stream",
       "stream": "stdout",
       "text": [
        "\n"
       ]
      },
      {
       "metadata": {},
       "output_type": "pyout",
       "prompt_number": 5,
       "text": [
        "'\\nprint \"Step3: Start training models\"       \\n\\n# a list for range(0, 33) - 13, no need to learn y14 since it is always 0\\nK = set(label)\\ncount = 0\\nmodel = {}\\nlog_loss = {}\\n\\nfor k in K:\\n        forest = RandomForestClassifier(n_estimators = 40, criterion = \"gini\", verbose = 0, n_jobs = 4, min_samples_split = 50)\\n       # No \\'y14\\' or \\'id\\'    \\n        model[k] = forest.fit(train.drop(\\'id\\', 1), label[k])\\n        output_validation = model[k].predict_proba(validation.drop(\\'id\\', 1))\\n        log_loss[k] = metrics.log_loss(label_validation[k].as_matrix(), output_validation)\\n        #print \"\\n\", k, \"AUC = \", metrics.roc_auc_score(label_validation[k], output_validation[:,1])\\n        print \"\\n\", k, \"Log_Loss = \", log_loss[k]\\n        count += 1\\n\\nprint(\\'\\nTotal Log Loss = \\', sum(log_loss.values()) / 33, \\'\\n\\')\\np2 = datetime.now()\\nprint(\\'Training is done, elapsed time: %s\\' % str(p2 - p1))\\n\\n# Saving submission #######################################################################\\n\\nwith open(\\'./submission_new.csv\\', \\'w\\') as outfile:\\n    outfile.write(\\'id_label, pred\\n\\')\\n    output = {}\\n    n = range(len(test))\\n    #n = range(100)\\n\\n    K = range(33)\\n    for k in K:\\n        key = \\'y\\' + str(k + 1)\\n        if k != 13:\\n            output[key] = model[key].predict_proba(test.drop(\\'id\\', 1))\\n                     \\n    for i in n:\\n        if i % 100000 == 0:\\n            print i\\n        for k in K:\\n            key = \\'y\\' + str(k + 1) \\n            if k == 13:\\n                outfile.write(\\'%s_y14,0.0\\n\\' % test.id[i])\\n            else:\\n                outfile.write(\\'%s_%s,%s\\n\\' % (test.id[i], key, str(output[key][i,1])))\\n    \\noutfile.close()\\nprint(\\'Dumping is done, elapsed time: %s\\' % str(datetime.now() - p2))           \\n\\nprint(\\'Done, elapsed time: %s\\' % str(datetime.now() - start))\\n'"
       ]
      }
     ],
     "prompt_number": 5
    },
    {
     "cell_type": "code",
     "collapsed": false,
     "input": [
      "load hashing_feature_new.py"
     ],
     "language": "python",
     "metadata": {},
     "outputs": [],
     "prompt_number": 12
    },
    {
     "cell_type": "code",
     "collapsed": false,
     "input": [
      "\"\"\"\n",
      "Created on Mon Oct 13 13:40:21 2014\n",
      "\n",
      "@author: SYan\n",
      "\"\"\"\n",
      "\n",
      "from datetime import datetime\n",
      "\n",
      "import matplotlib.pyplot as plt\n",
      "import numpy as np\n",
      "import pandas as pd\n",
      "import random\n",
      "\n",
      "from sklearn.ensemble import RandomForestClassifier\n",
      "from sklearn import preprocessing\n",
      "from sklearn import metrics\n",
      "\n",
      "# parameters #################################################################\n",
      "\n",
      "start = datetime.now()\n",
      "\n",
      "#\"\"\"\n",
      "# Only loading one time\n",
      "print \"Step0: Loading raw data\"\n",
      "raw_train = pd.read_csv('train.csv', header=0)\n",
      "raw_label = pd.read_csv('trainLabels.csv', header=0)\n",
      "raw_test = pd.read_csv('test.csv', header=0)\n",
      "\n",
      "print('Data loading is done! elapsed time: %s' % str(datetime.now() - start))\n",
      "\n",
      "#\"\"\"\n",
      "\n",
      "#\"\"\"\n",
      "\n",
      "print \"Step1: Sampling\"\n",
      "nSample = 100000\n",
      "rows = random.sample(raw_train.index, nSample)\n",
      "train = raw_train.ix[rows]\n",
      "label = raw_label.ix[rows]\n",
      "test = raw_test\n",
      "\n",
      "del raw_test\n",
      "del raw_train\n",
      "del raw_label\n",
      "\n",
      "\n",
      "D = 2 ** 18  # number of weights use for each model, we have 32 of them\n",
      "alpha = .1   # learning rate for sgd optimization\n",
      "\n",
      "\n",
      "#train = train.append(label)\n",
      "#train.dropna()\n",
      "\n",
      "# function, generator definitions ############################################\n",
      "\n",
      "#     bounded logarithmic loss of p given y\n",
      "def freq(v, table):\n",
      "    for key in v:\n",
      "        if not key in table or key == 'YES':\n",
      "            table[key] = 1\n",
      "        elif key == 'NO':\n",
      "            table[key] = 0\n",
      "        elif key == '' or key == '-999':\n",
      "            table[key] = -999\n",
      "        else:\n",
      "            table[key] += 1\n",
      "        \n",
      "    return table\n",
      "    \n",
      "\n",
      "def lookup(hashT, v):\n",
      "    ind = v.index\n",
      "    count = 0\n",
      "    \n",
      "    for key in v:\n",
      "        if key in hashT:\n",
      "            v[ind[count]] = hashT[key]\n",
      "        else:\n",
      "            v[ind[count]] = 0\n",
      "        count = count + 1\n",
      "    return v\n",
      "\n",
      "\n",
      "#hasher = FeatureHasher(input_type = 'string')\n",
      "print \"Step2: Hashing Frequency Table\"\n",
      "a = set(train)\n",
      "table = {}\n",
      "train = train.fillna('-999')\n",
      "test = test.fillna('-999')\n",
      "\n",
      "for i in a:\n",
      "    if i == 'id':\n",
      "        continue\n",
      "    if train[i].dtypes == 'object':\n",
      "        #print i\n",
      "        table = freq(train[i], table)\n",
      "\n",
      "for i in a:\n",
      "    if i == 'id':\n",
      "        continue\n",
      "    if train[i].dtypes == 'object':\n",
      "        #print i\n",
      "        train[i] = lookup(table, train[i])\n",
      "\ttest[i] = lookup(table, test[i])\n",
      "\n",
      "# Split the train into training and validation\n",
      "split = 0.8\n",
      "rows = random.sample(train.index, int(split * nSample))\n",
      "\n",
      "temp = train\n",
      "train = temp.ix[rows]\n",
      "validation = temp.drop(rows)\n",
      "\n",
      "temp = label\n",
      "label = temp.ix[rows]\n",
      "label_validation = temp.drop(rows)\n",
      "del temp\n",
      "\n",
      "# scaling    \n",
      "#train[i] = preprocessing.scale(train[i].astype('float'))\n",
      "#validation[i] = preprocessing.scale(validation[i].astype('float'))\n",
      "#test[i] = preprocessing.scale(test[i].astype('float'))\n",
      "\n",
      "del table\n",
      "p1 = datetime.now()\n",
      "print('Sampling and hashing are done, elapsed time: %s' % str(p1 - start))\n",
      "\n",
      "#\"\"\"\n",
      "\n",
      "# Model training ###################################################\n",
      "        \n",
      "print \"Step3: Start training models\"       \n",
      "\n",
      "# a list for range(0, 33) - 13, no need to learn y14 since it is always 0\n",
      "K = set(label)\n",
      "count = 0\n",
      "model = {}\n",
      "log_loss = {}\n",
      "\n",
      "for k in K:\n",
      "    if k != 'y14' and  k != 'id':\n",
      "        forest = RandomForestClassifier(n_estimators = 50, criterion = \"entropy\", verbose = 0, n_jobs = 4, min_samples_split=10)\n",
      "       # No 'y14' or 'id'    \n",
      "        model[k] = forest.fit(train.drop('id', 1), label[k])\n",
      "        output_validation = model[k].predict_proba(validation.drop('id', 1))\n",
      "        log_loss[k] = metrics.log_loss(label_validation[k].as_matrix(), output_validation)\n",
      "        #print \"\\n\", k, \"AUC = \", metrics.roc_auc_score(label_validation[k], output_validation[:,1])\n",
      "        print \"\\n\", k, \"Log_Loss = \", log_loss[k]\n",
      "        count += 1\n",
      "\n",
      "print('\\nTotal Log Loss = ', sum(log_loss.values()) / 33, '\\n')\n",
      "p2 = datetime.now()\n",
      "print('Training is done, elapsed time: %s' % str(p2 - p1))\n",
      "\n",
      "# Saving submission #######################################################################\n",
      "\n",
      "with open('./submission_new.csv', 'w') as outfile:\n",
      "    outfile.write('id_label, pred\\n')\n",
      "    output = {}\n",
      "    n = range(len(test))\n",
      "    #n = range(100)\n",
      "\n",
      "    K = range(33)\n",
      "    for k in K:\n",
      "        key = 'y' + str(k + 1)\n",
      "        if k != 13:\n",
      "            output[key] = model[key].predict_proba(test.drop('id', 1))\n",
      "                     \n",
      "    for i in n:\n",
      "        if i % 100000 == 0:\n",
      "            print i\n",
      "        for k in K:\n",
      "            key = 'y' + str(k + 1) \n",
      "            if k == 13:\n",
      "                outfile.write('%s_y14,0.0\\n' % test.id[i])\n",
      "            else:\n",
      "                outfile.write('%s_%s,%s\\n' % (test.id[i], key, str(output[key][i,1])))\n",
      "    \n",
      "print('Dumping is done, elapsed time: %s' % str(datetime.now() - p2))           \n",
      "\n",
      "print('Done, elapsed time: %s' % str(datetime.now() - start))\n"
     ],
     "language": "python",
     "metadata": {},
     "outputs": [
      {
       "output_type": "stream",
       "stream": "stdout",
       "text": [
        "Step0: Loading raw data\n",
        "Data loading is done! elapsed time: 0:01:45.721000"
       ]
      },
      {
       "output_type": "stream",
       "stream": "stdout",
       "text": [
        "\n",
        "Step1: Sampling\n",
        "Step2: Hashing Frequency Table"
       ]
      },
      {
       "output_type": "stream",
       "stream": "stdout",
       "text": [
        "\n",
        "Sampling and hashing are done, elapsed time: 0:07:56.295000"
       ]
      },
      {
       "output_type": "stream",
       "stream": "stdout",
       "text": [
        "\n",
        "Step3: Start training models\n",
        "\n"
       ]
      },
      {
       "output_type": "stream",
       "stream": "stdout",
       "text": [
        "y9 Log_Loss =  0.0591703648204\n",
        "\n"
       ]
      },
      {
       "output_type": "stream",
       "stream": "stdout",
       "text": [
        "y8 Log_Loss =  0.00395367394835\n",
        "\n"
       ]
      },
      {
       "output_type": "stream",
       "stream": "stdout",
       "text": [
        "y1 Log_Loss =  0.00993994680413\n",
        "\n"
       ]
      },
      {
       "output_type": "stream",
       "stream": "stdout",
       "text": [
        "y3 Log_Loss =  0.00472939123005\n",
        "\n"
       ]
      },
      {
       "output_type": "stream",
       "stream": "stdout",
       "text": [
        "y2 Log_Loss =  0.00130706917796\n",
        "\n"
       ]
      },
      {
       "output_type": "stream",
       "stream": "stdout",
       "text": [
        "y5 Log_Loss =  0.00350204605634\n",
        "\n"
       ]
      },
      {
       "output_type": "stream",
       "stream": "stdout",
       "text": [
        "y4 Log_Loss =  0.00652495980814\n",
        "\n"
       ]
      },
      {
       "output_type": "stream",
       "stream": "stdout",
       "text": [
        "y7 Log_Loss =  0.0478335405471\n",
        "\n"
       ]
      },
      {
       "output_type": "stream",
       "stream": "stdout",
       "text": [
        "y6 Log_Loss =  0.0561511026411\n",
        "\n"
       ]
      },
      {
       "output_type": "stream",
       "stream": "stdout",
       "text": [
        "y28 Log_Loss =  0.0188670438481\n",
        "\n"
       ]
      },
      {
       "output_type": "stream",
       "stream": "stdout",
       "text": [
        "y29 Log_Loss =  0.0388293845322\n",
        "\n"
       ]
      },
      {
       "output_type": "stream",
       "stream": "stdout",
       "text": [
        "y20 Log_Loss =  0.00126930647378\n",
        "\n"
       ]
      },
      {
       "output_type": "stream",
       "stream": "stdout",
       "text": [
        "y21 Log_Loss =  0.00511643289022\n",
        "\n"
       ]
      },
      {
       "output_type": "stream",
       "stream": "stdout",
       "text": [
        "y22 Log_Loss =  0.00431687472248\n",
        "\n"
       ]
      },
      {
       "output_type": "stream",
       "stream": "stdout",
       "text": [
        "y23 Log_Loss =  0.00105414418806\n",
        "\n"
       ]
      },
      {
       "output_type": "stream",
       "stream": "stdout",
       "text": [
        "y24 Log_Loss =  0.0178657037766\n",
        "\n"
       ]
      },
      {
       "output_type": "stream",
       "stream": "stdout",
       "text": [
        "y25 Log_Loss =  0.00198110598351\n",
        "\n"
       ]
      },
      {
       "output_type": "stream",
       "stream": "stdout",
       "text": [
        "y26 Log_Loss =  0.0151771151046\n",
        "\n"
       ]
      },
      {
       "output_type": "stream",
       "stream": "stdout",
       "text": [
        "y27 Log_Loss =  0.00712896090966\n",
        "\n"
       ]
      },
      {
       "output_type": "stream",
       "stream": "stdout",
       "text": [
        "y33 Log_Loss =  0.169947744461\n",
        "\n"
       ]
      },
      {
       "output_type": "stream",
       "stream": "stdout",
       "text": [
        "y32 Log_Loss =  0.0260572777857\n",
        "\n"
       ]
      },
      {
       "output_type": "stream",
       "stream": "stdout",
       "text": [
        "y31 Log_Loss =  0.0264208178578\n",
        "\n"
       ]
      },
      {
       "output_type": "stream",
       "stream": "stdout",
       "text": [
        "y30 Log_Loss =  0.0232274431884\n",
        "\n"
       ]
      },
      {
       "output_type": "stream",
       "stream": "stdout",
       "text": [
        "y19 Log_Loss =  0.000809849315819\n",
        "\n"
       ]
      },
      {
       "output_type": "stream",
       "stream": "stdout",
       "text": [
        "y18 Log_Loss =  0.00201566450716\n",
        "\n"
       ]
      },
      {
       "output_type": "stream",
       "stream": "stdout",
       "text": [
        "y15 Log_Loss =  0.00385944319304\n",
        "\n"
       ]
      },
      {
       "output_type": "stream",
       "stream": "stdout",
       "text": [
        "y17 Log_Loss =  0.00204639961731\n",
        "\n"
       ]
      },
      {
       "output_type": "stream",
       "stream": "stdout",
       "text": [
        "y16 Log_Loss =  0.00980052948051\n",
        "\n"
       ]
      },
      {
       "output_type": "stream",
       "stream": "stdout",
       "text": [
        "y11 Log_Loss =  0.00107697592268\n",
        "\n"
       ]
      },
      {
       "output_type": "stream",
       "stream": "stdout",
       "text": [
        "y10 Log_Loss =  0.0353525430081\n",
        "\n"
       ]
      },
      {
       "output_type": "stream",
       "stream": "stdout",
       "text": [
        "y13 Log_Loss =  0.0126858440266\n",
        "\n"
       ]
      },
      {
       "output_type": "stream",
       "stream": "stdout",
       "text": [
        "y12 Log_Loss =  0.062262358707\n",
        "('\\nTotal Log Loss = ', 0.020614577531321208, '\\n')\n",
        "Training is done, elapsed time: 0:11:24.138000\n",
        "0"
       ]
      },
      {
       "output_type": "stream",
       "stream": "stdout",
       "text": [
        "\n",
        "100000"
       ]
      },
      {
       "output_type": "stream",
       "stream": "stdout",
       "text": [
        "\n",
        "200000"
       ]
      },
      {
       "output_type": "stream",
       "stream": "stdout",
       "text": [
        "\n",
        "300000"
       ]
      },
      {
       "output_type": "stream",
       "stream": "stdout",
       "text": [
        "\n",
        "400000"
       ]
      },
      {
       "output_type": "stream",
       "stream": "stdout",
       "text": [
        "\n",
        "500000"
       ]
      },
      {
       "output_type": "stream",
       "stream": "stdout",
       "text": [
        "\n",
        "Dumping is done, elapsed time: 0:13:52.879000"
       ]
      },
      {
       "output_type": "stream",
       "stream": "stdout",
       "text": [
        "\n",
        "Done, elapsed time: 0:33:13.312000\n"
       ]
      }
     ],
     "prompt_number": 14
    },
    {
     "cell_type": "code",
     "collapsed": false,
     "input": [
      "load fast_solution.py"
     ],
     "language": "python",
     "metadata": {},
     "outputs": [],
     "prompt_number": 54
    },
    {
     "cell_type": "code",
     "collapsed": false,
     "input": [
      "'''\n",
      "           DO WHAT THE FUCK YOU WANT TO PUBLIC LICENSE\n",
      "                   Version 2, December 2004\n",
      "\n",
      "Copyright (C) 2004 Sam Hocevar <sam@hocevar.net>\n",
      "\n",
      "Everyone is permitted to copy and distribute verbatim or modified\n",
      "copies of this license document, and changing it is allowed as long\n",
      "as the name is changed.\n",
      "\n",
      "           DO WHAT THE FUCK YOU WANT TO PUBLIC LICENSE\n",
      "  TERMS AND CONDITIONS FOR COPYING, DISTRIBUTION AND MODIFICATION\n",
      "\n",
      " 0. You just DO WHAT THE FUCK YOU WANT TO.\n",
      "'''\n",
      "\n",
      "\n",
      "from datetime import datetime\n",
      "from math import log, exp, sqrt\n",
      "\n",
      "\n",
      "# TL; DR\n",
      "# the main learning process start at line 122\n",
      "\n",
      "\n",
      "# parameters #################################################################\n",
      "\n",
      "train = 'train.csv'  # path to training file\n",
      "label = 'trainLabels.csv'  # path to label file of training data\n",
      "test = 'test.csv'  # path to testing file\n",
      "\n",
      "D = 2 ** 18  # number of weights use for each model, we have 32 of them\n",
      "alpha = .1   # learning rate for sgd optimization\n",
      "\n",
      "\n",
      "# function, generator definitions ############################################\n",
      "\n",
      "# A. x, y generator\n",
      "# INPUT:\n",
      "#     path: path to train.csv or test.csv\n",
      "#     label_path: (optional) path to trainLabels.csv\n",
      "# YIELDS:\n",
      "#     ID: id of the instance (can also acts as instance count)\n",
      "#     x: a list of indices that its value is 1\n",
      "#     y: (if label_path is present) label value of y1 to y33\n",
      "def data(path, label_path=None):\n",
      "    for t, line in enumerate(open(path)):\n",
      "        #if t > 100:\n",
      "            #break\n",
      "        \n",
      "        # initialize our generator\n",
      "        if t == 0:\n",
      "            # create a static x,\n",
      "            # so we don't have to construct a new x for every instance\n",
      "            x = [0] * (146 + 46)\n",
      "            if label_path:\n",
      "                label = open(label_path)\n",
      "                label.readline()  # we don't need the headers\n",
      "            continue\n",
      "        # parse x\n",
      "        for m, feat in enumerate(line.rstrip().split(',')):\n",
      "            if m == 0:\n",
      "                ID = int(feat)\n",
      "            else:\n",
      "                # one-hot encode everything with hash trick\n",
      "                # categorical: one-hotted\n",
      "                # boolean: ONE-HOTTED\n",
      "                # numerical: ONE-HOTTED!\n",
      "                # note, the build in hash(), although fast is not stable,\n",
      "                #       i.e., same value won't always have the same hash\n",
      "                #       on different machines\n",
      "                x[m] = abs(hash(str(m) + '_' + feat)) % D\n",
      "        \n",
      "        row = line.rstrip().split(',')\n",
      "        hash_cols = [3,4,34,35,61,64,65,91,94,95]\n",
      "        t = 146\n",
      "        for i in xrange(10):\n",
      "          for j in xrange(i+1, 10):\n",
      "            t += 1\n",
      "            x[t] = abs(hash(row[hash_cols[i]]+\"_x_\"+row[hash_cols[j]])) % D\n",
      "\n",
      "        #print len(x), x[0:10]\n",
      "        # parse y, if provided\n",
      "        if label_path:\n",
      "            # use float() to prevent future type casting, [1:] to ignore id\n",
      "            y = [float(y) for y in label.readline().split(',')[1:]]\n",
      "        yield (ID, x, y) if label_path else (ID, x)\n",
      "\n",
      "\n",
      "# B. Bounded logloss\n",
      "# INPUT:\n",
      "#     p: our prediction\n",
      "#     y: real answer\n",
      "# OUTPUT\n",
      "#     bounded logarithmic loss of p given y\n",
      "def logloss(p, y):\n",
      "    p = max(min(p, 1. - 10e-15), 10e-15)\n",
      "    return -log(p) if y == 1. else -log(1. - p)\n",
      "\n",
      "\n",
      "# C. Get probability estimation on x\n",
      "# INPUT:\n",
      "#     x: features\n",
      "#     w: weights\n",
      "# OUTPUT:\n",
      "#     probability of p(y = 1 | x; w)\n",
      "def predict(x, w):\n",
      "    wTx = 0.\n",
      "    for i in x:  # do wTx\n",
      "        wTx += w[i] * 1.  # w[i] * x[i], but if i in x we got x[i] = 1.\n",
      "    return 1. / (1. + exp(-max(min(wTx, 20.), -20.)))  # bounded sigmoid\n",
      "\n",
      "\n",
      "# D. Update given model\n",
      "# INPUT:\n",
      "# alpha: learning rate\n",
      "#     w: weights\n",
      "#     n: sum of previous absolute gradients for a given feature\n",
      "#        this is used for adaptive learning rate\n",
      "#     x: feature, a list of indices\n",
      "#     p: prediction of our model\n",
      "#     y: answer\n",
      "# MODIFIES:\n",
      "#     w: weights\n",
      "#     n: sum of past absolute gradients\n",
      "def update(alpha, w, n, x, p, y):\n",
      "    for i in x:\n",
      "        # alpha / sqrt(n) is the adaptive learning rate\n",
      "        # (p - y) * x[i] is the current gradient\n",
      "        # note that in our case, if i in x then x[i] = 1.\n",
      "        n[i] += abs(p - y)\n",
      "        w[i] -= (p - y) * 1. * alpha / sqrt(n[i])\n",
      "\n",
      "\n",
      "# training and testing #######################################################\n",
      "start = datetime.now()\n",
      "\n",
      "# a list for range(0, 33) - 13, no need to learn y14 since it is always 0\n",
      "K = [k for k in range(33) if k != 13]\n",
      "\n",
      "# initialize our model, all 32 of them, again ignoring y14\n",
      "w = [[0.] * D if k != 13 else None for k in range(33)]\n",
      "n = [[0.] * D if k != 13 else None for k in range(33)]\n",
      "\n",
      "loss = 0.\n",
      "loss_y14 = log(1. - 10**-15)\n",
      "\n",
      "for ID, x, y in data(train, label):\n",
      "\n",
      "    # get predictions and train on all labels\n",
      "    for k in K:\n",
      "        p = predict(x, w[k])\n",
      "        update(alpha, w[k], n[k], x, p, y[k])\n",
      "        loss += logloss(p, y[k])  # for progressive validation\n",
      "    loss += loss_y14  # the loss of y14, logloss is never zero\n",
      "\n",
      "    # print out progress, so that we know everything is working\n",
      "    if ID % 100000 == 0:\n",
      "        print('%s\\tencountered: %d\\tcurrent logloss: %f' % (\n",
      "            datetime.now(), ID, (loss/33.)/ID))\n",
      "\n",
      "with open('./submission1234_corr.csv', 'w') as outfile:\n",
      "    outfile.write('id_label,pred\\n')\n",
      "    for ID, x in data(test):\n",
      "        for k in K:\n",
      "            p = predict(x, w[k])\n",
      "            outfile.write('%s_y%d,%s\\n' % (ID, k+1, str(p)))\n",
      "            if k == 12:\n",
      "                outfile.write('%s_y14,0.0\\n' % ID)\n",
      "\n",
      "print('Done, elapsed time: %s' % str(datetime.now() - start))\n"
     ],
     "language": "python",
     "metadata": {},
     "outputs": [
      {
       "output_type": "stream",
       "stream": "stdout",
       "text": [
        "2014-10-21 12:29:40.835000\tencountered: 100000\tcurrent logloss: 0.023806\n",
        "2014-10-21 19:51:38.817000\tencountered: 200000\tcurrent logloss: 0.019913"
       ]
      },
      {
       "output_type": "stream",
       "stream": "stdout",
       "text": [
        "\n",
        "2014-10-21 20:01:50.973000\tencountered: 300000\tcurrent logloss: 0.017911"
       ]
      },
      {
       "output_type": "stream",
       "stream": "stdout",
       "text": [
        "\n",
        "2014-10-21 20:11:59.193000\tencountered: 400000\tcurrent logloss: 0.016660"
       ]
      },
      {
       "output_type": "stream",
       "stream": "stdout",
       "text": [
        "\n",
        "2014-10-21 20:22:05.678000\tencountered: 500000\tcurrent logloss: 0.015701"
       ]
      },
      {
       "output_type": "stream",
       "stream": "stdout",
       "text": [
        "\n",
        "2014-10-21 20:32:12.491000\tencountered: 600000\tcurrent logloss: 0.015001"
       ]
      },
      {
       "output_type": "stream",
       "stream": "stdout",
       "text": [
        "\n",
        "2014-10-21 20:42:21.016000\tencountered: 700000\tcurrent logloss: 0.014465"
       ]
      },
      {
       "output_type": "stream",
       "stream": "stdout",
       "text": [
        "\n",
        "2014-10-21 20:52:32.917000\tencountered: 800000\tcurrent logloss: 0.013996"
       ]
      },
      {
       "output_type": "stream",
       "stream": "stdout",
       "text": [
        "\n",
        "2014-10-21 21:02:45.291000\tencountered: 900000\tcurrent logloss: 0.013599"
       ]
      },
      {
       "output_type": "stream",
       "stream": "stdout",
       "text": [
        "\n",
        "2014-10-21 21:12:55.953000\tencountered: 1000000\tcurrent logloss: 0.013254"
       ]
      },
      {
       "output_type": "stream",
       "stream": "stdout",
       "text": [
        "\n",
        "2014-10-21 21:23:10.853000\tencountered: 1100000\tcurrent logloss: 0.012947"
       ]
      },
      {
       "output_type": "stream",
       "stream": "stdout",
       "text": [
        "\n",
        "2014-10-21 21:33:27.133000\tencountered: 1200000\tcurrent logloss: 0.012683"
       ]
      },
      {
       "output_type": "stream",
       "stream": "stdout",
       "text": [
        "\n",
        "2014-10-21 21:44:01.558000\tencountered: 1300000\tcurrent logloss: 0.012444"
       ]
      },
      {
       "output_type": "stream",
       "stream": "stdout",
       "text": [
        "\n",
        "2014-10-21 21:54:21.617000\tencountered: 1400000\tcurrent logloss: 0.012235"
       ]
      },
      {
       "output_type": "stream",
       "stream": "stdout",
       "text": [
        "\n",
        "2014-10-21 22:04:43.557000\tencountered: 1500000\tcurrent logloss: 0.012040"
       ]
      },
      {
       "output_type": "stream",
       "stream": "stdout",
       "text": [
        "\n",
        "2014-10-21 22:15:18.956000\tencountered: 1600000\tcurrent logloss: 0.011859"
       ]
      },
      {
       "output_type": "stream",
       "stream": "stdout",
       "text": [
        "\n",
        "2014-10-21 22:25:45.730000\tencountered: 1700000\tcurrent logloss: 0.011692"
       ]
      },
      {
       "output_type": "stream",
       "stream": "stdout",
       "text": [
        "\n",
        "Done, elapsed time: 10:19:33.311000"
       ]
      },
      {
       "output_type": "stream",
       "stream": "stdout",
       "text": [
        "\n"
       ]
      }
     ],
     "prompt_number": 7
    },
    {
     "cell_type": "code",
     "collapsed": false,
     "input": [
      "cd '../Kaggle/Trade Shift/'"
     ],
     "language": "python",
     "metadata": {},
     "outputs": [
      {
       "output_type": "stream",
       "stream": "stdout",
       "text": [
        "C:\\Users\\SYan\\Desktop\\Kaggle\\Trade Shift\n"
       ]
      }
     ],
     "prompt_number": 2
    },
    {
     "cell_type": "code",
     "collapsed": false,
     "input": [
      "'''\n",
      "           DO WHAT THE FUCK YOU WANT TO PUBLIC LICENSE\n",
      "                   Version 2, December 2004\n",
      "\n",
      "Copyright (C) 2004 Sam Hocevar <sam@hocevar.net>\n",
      "\n",
      "Everyone is permitted to copy and distribute verbatim or modified\n",
      "copies of this license document, and changing it is allowed as long\n",
      "as the name is changed.\n",
      "\n",
      "           DO WHAT THE FUCK YOU WANT TO PUBLIC LICENSE\n",
      "  TERMS AND CONDITIONS FOR COPYING, DISTRIBUTION AND MODIFICATION\n",
      "\n",
      " 0. You just DO WHAT THE FUCK YOU WANT TO.\n",
      "'''\n",
      "\n",
      "\n",
      "from datetime import datetime\n",
      "from math import log, exp, sqrt\n",
      "\n",
      "\n",
      "# TL; DR\n",
      "# the main learning process start at line 122\n",
      "\n",
      "\n",
      "# parameters #################################################################\n",
      "\n",
      "train = 'train.csv'  # path to training file\n",
      "label = 'trainLabels.csv'  # path to label file of training data\n",
      "test = 'test.csv'  # path to testing file\n",
      "\n",
      "D = 2 ** 18  # number of weights use for each model, we have 32 of them\n",
      "alpha = .1   # learning rate for sgd optimization\n",
      "\n",
      "\n",
      "# function, generator definitions ############################################\n",
      "\n",
      "# A. x, y generator\n",
      "# INPUT:\n",
      "#     path: path to train.csv or test.csv\n",
      "#     label_path: (optional) path to trainLabels.csv\n",
      "# YIELDS:\n",
      "#     ID: id of the instance (can also acts as instance count)\n",
      "#     x: a list of indices that its value is 1\n",
      "#     y: (if label_path is present) label value of y1 to y33\n",
      "def data(path, label_path=None):\n",
      "    for t, line in enumerate(open(path)):\n",
      "        if t > 10000:\n",
      "            break\n",
      "        \n",
      "        # initialize our generator\n",
      "        if t == 0:\n",
      "            # create a static x,\n",
      "            # so we don't have to construct a new x for every instance\n",
      "            x = [0] * 146\n",
      "            if label_path:\n",
      "                label = open(label_path)\n",
      "                label.readline()  # we don't need the headers\n",
      "            continue\n",
      "        # parse x\n",
      "        for m, feat in enumerate(line.rstrip().split(',')):\n",
      "            if m == 0:\n",
      "                ID = int(feat)\n",
      "            else:\n",
      "                # one-hot encode everything with hash trick\n",
      "                # categorical: one-hotted\n",
      "                # boolean: ONE-HOTTED\n",
      "                # numerical: ONE-HOTTED!\n",
      "                # note, the build in hash(), although fast is not stable,\n",
      "                #       i.e., same value won't always have the same hash\n",
      "                #       on different machines\n",
      "                x[m] = abs(hash(str(m) + '_' + feat)) % D\n",
      "        # parse y, if provided\n",
      "        if label_path:\n",
      "            # use float() to prevent future type casting, [1:] to ignore id\n",
      "            y = [float(y) for y in label.readline().split(',')[1:]]\n",
      "        yield (ID, x, y) if label_path else (ID, x)\n",
      "\n",
      "\n",
      "# B. Bounded logloss\n",
      "# INPUT:\n",
      "#     p: our prediction\n",
      "#     y: real answer\n",
      "# OUTPUT\n",
      "#     bounded logarithmic loss of p given y\n",
      "def logloss(p, y):\n",
      "    p = max(min(p, 1. - 10e-15), 10e-15)\n",
      "    return -log(p) if y == 1. else -log(1. - p)\n",
      "\n",
      "\n",
      "# C. Get probability estimation on x\n",
      "# INPUT:\n",
      "#     x: features\n",
      "#     w: weights\n",
      "# OUTPUT:\n",
      "#     probability of p(y = 1 | x; w)\n",
      "def predict(x, w):\n",
      "    wTx = 0.\n",
      "    for i in x:  # do wTx\n",
      "        wTx += w[i] * 1.  # w[i] * x[i], but if i in x we got x[i] = 1.\n",
      "    return 1. / (1. + exp(-max(min(wTx, 20.), -20.)))  # bounded sigmoid\n",
      "\n",
      "\n",
      "# D. Update given model\n",
      "# INPUT:\n",
      "# alpha: learning rate\n",
      "#     w: weights\n",
      "#     n: sum of previous absolute gradients for a given feature\n",
      "#        this is used for adaptive learning rate\n",
      "#     x: feature, a list of indices\n",
      "#     p: prediction of our model\n",
      "#     y: answer\n",
      "# MODIFIES:\n",
      "#     w: weights\n",
      "#     n: sum of past absolute gradients\n",
      "def update(alpha, w, n, x, p, y):\n",
      "    for i in x:\n",
      "        # alpha / sqrt(n) is the adaptive learning rate\n",
      "        # (p - y) * x[i] is the current gradient\n",
      "        # note that in our case, if i in x then x[i] = 1.\n",
      "        n[i] += abs(p - y)\n",
      "        w[i] -= (p - y) * 1. * alpha / sqrt(n[i])\n",
      "\n",
      "\n",
      "# training and testing #######################################################\n",
      "start = datetime.now()\n",
      "\n",
      "# a list for range(0, 33) - 13, no need to learn y14 since it is always 0\n",
      "K = [k for k in range(33) if k != 13]\n",
      "\n",
      "# initialize our model, all 32 of them, again ignoring y14\n",
      "w = [[0.] * D if k != 13 else None for k in range(33)]\n",
      "n = [[0.] * D if k != 13 else None for k in range(33)]\n",
      "\n",
      "loss = 0.\n",
      "loss_y14 = log(1. - 10**-15)\n",
      "\n",
      "for ID, x, y in data(train, label):\n",
      "\n",
      "    # get predictions and train on all labels\n",
      "    for k in K:\n",
      "        p = predict(x, w[k])\n",
      "        update(alpha, w[k], n[k], x, p, y[k])\n",
      "        loss += logloss(p, y[k])  # for progressive validation\n",
      "    loss += loss_y14  # the loss of y14, logloss is never zero\n",
      "\n",
      "    # print out progress, so that we know everything is working\n",
      "    if ID % 100000 == 0:\n",
      "        print('%s\\tencountered: %d\\tcurrent logloss: %f' % (\n",
      "            datetime.now(), ID, (loss/33.)/ID))\n",
      "\n",
      "with open('./submission1234.csv', 'w') as outfile:\n",
      "    outfile.write('id_label,pred\\n')\n",
      "    for ID, x in data(test):\n",
      "        for k in K:\n",
      "            p = predict(x, w[k])\n",
      "            outfile.write('%s_y%d,%s\\n' % (ID, k+1, str(p)))\n",
      "            if k == 12:\n",
      "                outfile.write('%s_y14,0.0\\n' % ID)\n",
      "\n",
      "print('Done, elapsed time: %s' % str(datetime.now() - start))\n"
     ],
     "language": "python",
     "metadata": {},
     "outputs": []
    },
    {
     "cell_type": "code",
     "collapsed": false,
     "input": [
      "'''\n",
      "           DO WHAT THE FUCK YOU WANT TO PUBLIC LICENSE\n",
      "                   Version 2, December 2004\n",
      "\n",
      "Copyright (C) 2004 Sam Hocevar <sam@hocevar.net>\n",
      "\n",
      "Everyone is permitted to copy and distribute verbatim or modified\n",
      "copies of this license document, and changing it is allowed as long\n",
      "as the name is changed.\n",
      "\n",
      "           DO WHAT THE FUCK YOU WANT TO PUBLIC LICENSE\n",
      "  TERMS AND CONDITIONS FOR COPYING, DISTRIBUTION AND MODIFICATION\n",
      "\n",
      " 0. You just DO WHAT THE FUCK YOU WANT TO.\n",
      "'''\n",
      "\n",
      "\n",
      "from datetime import datetime\n",
      "from math import log, exp, sqrt\n",
      "\n",
      "\n",
      "# TL; DR\n",
      "# the main learning process start at line 122\n",
      "\n",
      "\n",
      "# parameters #################################################################\n",
      "\n",
      "train = 'train.csv'  # path to training file\n",
      "label = 'trainLabels.csv'  # path to label file of training data\n",
      "test = 'test.csv'  # path to testing file\n",
      "\n",
      "D = 2 ** 18  # number of weights use for each model, we have 32 of them\n",
      "alpha = .1   # learning rate for sgd optimization\n",
      "\n",
      "\n",
      "# function, generator definitions ############################################\n",
      "\n",
      "# A. x, y generator\n",
      "# INPUT:\n",
      "#     path: path to train.csv or test.csv\n",
      "#     label_path: (optional) path to trainLabels.csv\n",
      "# YIELDS:\n",
      "#     ID: id of the instance (can also acts as instance count)\n",
      "#     x: a list of indices that its value is 1\n",
      "#     y: (if label_path is present) label value of y1 to y33\n",
      "def data(path, label_path=None):\n",
      "    for t, line in enumerate(open(path)):\n",
      "        if t > 1000:\n",
      "            break\n",
      "        \n",
      "        # initialize our generator\n",
      "        if t == 0:\n",
      "            # create a static x,\n",
      "            # so we don't have to construct a new x for every instance\n",
      "            x = [0] * (146 + 46)\n",
      "            if label_path:\n",
      "                label = open(label_path)\n",
      "                label.readline()  # we don't need the headers\n",
      "            continue\n",
      "        # parse x\n",
      "        for m, feat in enumerate(line.rstrip().split(',')):\n",
      "            if m == 0:\n",
      "                ID = int(feat)\n",
      "            else:\n",
      "                # one-hot encode everything with hash trick\n",
      "                # categorical: one-hotted\n",
      "                # boolean: ONE-HOTTED\n",
      "                # numerical: ONE-HOTTED!\n",
      "                # note, the build in hash(), although fast is not stable,\n",
      "                #       i.e., same value won't always have the same hash\n",
      "                #       on different machines\n",
      "                x[m] = abs(hash(str(m) + '_' + feat)) % D\n",
      "        \n",
      "        row  = line.rstrip().split(',')\n",
      "        hash_cols = [3,4,34,35,61,64,65,91,94,95]\n",
      "        t = 146\n",
      "        for i in xrange(10):\n",
      "          for j in xrange(i+1, 10):\n",
      "            t += 1\n",
      "            x[t] = abs(hash(row[hash_cols[i]]+\"_x_\"+row[hash_cols[j]])) % D\n",
      "        # parse y, if provided\n",
      "        if label_path:\n",
      "            # use float() to prevent future type casting, [1:] to ignore id\n",
      "            y = [float(y) for y in label.readline().split(',')[1:]]\n",
      "        yield (ID, x, y) if label_path else (ID, x)\n",
      "\n",
      "\n",
      "# B. Bounded logloss\n",
      "# INPUT:\n",
      "#     p: our prediction\n",
      "#     y: real answer\n",
      "# OUTPUT\n",
      "#     bounded logarithmic loss of p given y\n",
      "def logloss(p, y):\n",
      "    p = max(min(p, 1. - 10e-15), 10e-15)\n",
      "    return -log(p) if y == 1. else -log(1. - p)\n",
      "\n",
      "\n",
      "# C. Get probability estimation on x\n",
      "# INPUT:\n",
      "#     x: features\n",
      "#     w: weights\n",
      "# OUTPUT:\n",
      "#     probability of p(y = 1 | x; w)\n",
      "def predict(x, w):\n",
      "    wTx = 0.\n",
      "    for i in x:  # do wTx\n",
      "        wTx += w[i] * 1.  # w[i] * x[i], but if i in x we got x[i] = 1.\n",
      "    return 1. / (1. + exp(-max(min(wTx, 20.), -20.)))  # bounded sigmoid\n",
      "\n",
      "\n",
      "# D. Update given model\n",
      "# INPUT:\n",
      "# alpha: learning rate\n",
      "#     w: weights\n",
      "#     n: sum of previous absolute gradients for a given feature\n",
      "#        this is used for adaptive learning rate\n",
      "#     x: feature, a list of indices\n",
      "#     p: prediction of our model\n",
      "#     y: answer\n",
      "# MODIFIES:\n",
      "#     w: weights\n",
      "#     n: sum of past absolute gradients\n",
      "def update(alpha, w, n, x, p, y):\n",
      "    for i in x:\n",
      "        # alpha / sqrt(n) is the adaptive learning rate\n",
      "        # (p - y) * x[i] is the current gradient\n",
      "        # note that in our case, if i in x then x[i] = 1.\n",
      "        n[i] += abs(p - y)\n",
      "        w[i] -= (p - y) * 1. * alpha / sqrt(n[i])\n",
      "\n",
      "\n",
      "# training and testing #######################################################\n",
      "start = datetime.now()\n",
      "\n",
      "import csv\n",
      "\n",
      "# a list for range(0, 33) - 13, no need to learn y14 since it is always 0\n",
      "K = [k for k in range(33) if k != 13]\n",
      "\n",
      "# initialize our model, all 32 of them, again ignoring y14\n",
      "w = [[0.] * D if k != 13 else None for k in range(33)]\n",
      "n = [[0.] * D if k != 13 else None for k in range(33)]\n",
      "\n",
      "loss = 0.\n",
      "loss_y14 = log(1. - 10**-15)\n",
      "\n",
      "with open('./hashing_train.csv', 'w') as outfile:\n",
      "    for ID, x, y in data(train, label):\n",
      "        writer = csv.writer(outfile)\n",
      "        writer.writerow(x)\n",
      "\n",
      "    # print out progress, so that we know everything is working\n",
      "    if ID % 100 == 0:\n",
      "        print('%s\\tencountered: %d\\tcurrent logloss: %f' % (\n",
      "            datetime.now(), ID, (loss/33.)/ID))\n",
      "\n",
      "'''\n",
      "with open('./submission1234.csv', 'w') as outfile:\n",
      "    outfile.write('id_label,pred\\n')\n",
      "    for ID, x in data(test):\n",
      "        for k in K:\n",
      "            p = predict(x, w[k])\n",
      "            outfile.write('%s_y%d,%s\\n' % (ID, k+1, str(p)))\n",
      "            if k == 12:\n",
      "                outfile.write('%s_y14,0.0\\n' % ID)\n",
      "\n",
      "print('Done, elapsed time: %s' % str(datetime.now() - start))\n",
      "'''"
     ],
     "language": "python",
     "metadata": {},
     "outputs": [
      {
       "metadata": {},
       "output_type": "pyout",
       "prompt_number": 53,
       "text": [
        "\"\\nwith open('./submission1234.csv', 'w') as outfile:\\n    outfile.write('id_label,pred\\n')\\n    for ID, x in data(test):\\n        for k in K:\\n            p = predict(x, w[k])\\n            outfile.write('%s_y%d,%s\\n' % (ID, k+1, str(p)))\\n            if k == 12:\\n                outfile.write('%s_y14,0.0\\n' % ID)\\n\\nprint('Done, elapsed time: %s' % str(datetime.now() - start))\\n\""
       ]
      }
     ],
     "prompt_number": 53
    },
    {
     "cell_type": "code",
     "collapsed": false,
     "input": [
      "x"
     ],
     "language": "python",
     "metadata": {},
     "outputs": [
      {
       "metadata": {},
       "output_type": "pyout",
       "prompt_number": 49,
       "text": [
        "[0,\n",
        " 154635,\n",
        " 208524,\n",
        " 178917,\n",
        " 94673,\n",
        " 44373,\n",
        " 204412,\n",
        " 49764,\n",
        " 253078,\n",
        " 161027,\n",
        " 235890,\n",
        " 185563,\n",
        " 208915,\n",
        " 234669,\n",
        " 32218,\n",
        " 164116,\n",
        " 80588,\n",
        " 62162,\n",
        " 62039,\n",
        " 260966,\n",
        " 169869,\n",
        " 26229,\n",
        " 6350,\n",
        " 149751,\n",
        " 128027,\n",
        " 184398,\n",
        " 84755,\n",
        " 181823,\n",
        " 239003,\n",
        " 240738,\n",
        " 79316,\n",
        " 251707,\n",
        " 77130,\n",
        " 38797,\n",
        " 202510,\n",
        " 22739,\n",
        " 115200,\n",
        " 251211,\n",
        " 166655,\n",
        " 162167,\n",
        " 93659,\n",
        " 232488,\n",
        " 203353,\n",
        " 255373,\n",
        " 66821,\n",
        " 227052,\n",
        " 256704,\n",
        " 19823,\n",
        " 131556,\n",
        " 13155,\n",
        " 33239,\n",
        " 94517,\n",
        " 89923,\n",
        " 1802,\n",
        " 171799,\n",
        " 121843,\n",
        " 239956,\n",
        " 91067,\n",
        " 94646,\n",
        " 152408,\n",
        " 219654,\n",
        " 238052,\n",
        " 13373,\n",
        " 198292,\n",
        " 182071,\n",
        " 129042,\n",
        " 219919,\n",
        " 21932,\n",
        " 101062,\n",
        " 17314,\n",
        " 68200,\n",
        " 45633,\n",
        " 1738,\n",
        " 193832,\n",
        " 167852,\n",
        " 43907,\n",
        " 211379,\n",
        " 196060,\n",
        " 125019,\n",
        " 120558,\n",
        " 241760,\n",
        " 240184,\n",
        " 17478,\n",
        " 257173,\n",
        " 90338,\n",
        " 142840,\n",
        " 143863,\n",
        " 168658,\n",
        " 144825,\n",
        " 170789,\n",
        " 185628,\n",
        " 139623,\n",
        " 183319,\n",
        " 232020,\n",
        " 153985,\n",
        " 202694,\n",
        " 208596,\n",
        " 58005,\n",
        " 81402,\n",
        " 225137,\n",
        " 160631,\n",
        " 239827,\n",
        " 93962,\n",
        " 142677,\n",
        " 258956,\n",
        " 45519,\n",
        " 4941,\n",
        " 454,\n",
        " 105969,\n",
        " 224376,\n",
        " 87902,\n",
        " 55867,\n",
        " 190116,\n",
        " 194603,\n",
        " 194894,\n",
        " 34338,\n",
        " 180203,\n",
        " 131496,\n",
        " 206970,\n",
        " 88563,\n",
        " 21767,\n",
        " 161004,\n",
        " 117391,\n",
        " 261127,\n",
        " 260997,\n",
        " 162626,\n",
        " 190589,\n",
        " 240836,\n",
        " 98368,\n",
        " 214146,\n",
        " 202048,\n",
        " 67438,\n",
        " 158693,\n",
        " 32946,\n",
        " 151333,\n",
        " 221940,\n",
        " 213026,\n",
        " 94650,\n",
        " 16115,\n",
        " 192982,\n",
        " 72077,\n",
        " 139692,\n",
        " 41351,\n",
        " 199890,\n",
        " 167670,\n",
        " 4680]"
       ]
      }
     ],
     "prompt_number": 49
    },
    {
     "cell_type": "code",
     "collapsed": false,
     "input": [
      "load hashing_feature_new.py"
     ],
     "language": "python",
     "metadata": {},
     "outputs": [],
     "prompt_number": 18
    },
    {
     "cell_type": "code",
     "collapsed": false,
     "input": [
      "\"\"\"\n",
      "Created on Mon Oct 13 13:40:21 2014\n",
      "\n",
      "@author: SYan\n",
      "\"\"\"\n",
      "\n",
      "from datetime import datetime\n",
      "\n",
      "import matplotlib.pyplot as plt\n",
      "import numpy as np\n",
      "import pandas as pd\n",
      "import random\n",
      "\n",
      "from sklearn.ensemble import RandomForestClassifier\n",
      "from sklearn import preprocessing\n",
      "from sklearn import metrics\n",
      "\n",
      "# parameters #################################################################\n",
      "\n",
      "start = datetime.now()\n",
      "\n",
      "#\"\"\"\n",
      "# Only loading one time\n",
      "print \"Step0: Loading raw data\"\n",
      "raw_train = pd.read_csv('train.csv', header=0, nrows = 10000)\n",
      "raw_label = pd.read_csv('trainLabels.csv', header=0, nrows = 10000)\n",
      "raw_test = pd.read_csv('test.csv', header=0, nrows = 10000)\n",
      "\n",
      "print('Data loading is done! elapsed time: %s' % str(datetime.now() - start))\n",
      "\n",
      "#\"\"\"\n",
      "\n",
      "#\"\"\"\n",
      "\n",
      "print \"Step1: Sampling\"\n",
      "nSample = 10000\n",
      "rows = random.sample(raw_train.index, nSample)\n",
      "train = raw_train.ix[rows]\n",
      "label = raw_label.ix[rows]\n",
      "test = raw_test\n",
      "\n",
      "del raw_test\n",
      "del raw_train\n",
      "del raw_label\n",
      "\n",
      "\n",
      "D = 2 ** 18  # number of weights use for each model, we have 32 of them\n",
      "alpha = .1   # learning rate for sgd optimization\n",
      "\n",
      "\n",
      "#train = train.append(label)\n",
      "#train.dropna()\n",
      "\n",
      "# function, generator definitions ############################################\n",
      "\n",
      "#     bounded logarithmic loss of p given y\n",
      "def freq(v, table):\n",
      "    for key in v:\n",
      "        if not key in table or key == 'YES':\n",
      "            table[key] = 1\n",
      "        elif key == 'NO':\n",
      "            table[key] = 0\n",
      "        elif key == '' or key == '-999':\n",
      "            table[key] = -999\n",
      "        else:\n",
      "            table[key] += 1\n",
      "        \n",
      "    return table\n",
      "    \n",
      "\n",
      "def lookup(hashT, v):\n",
      "    ind = v.index\n",
      "    count = 0\n",
      "    \n",
      "    for key in v:\n",
      "        if key in hashT:\n",
      "            v[ind[count]] = hashT[key]\n",
      "        else:\n",
      "            v[ind[count]] = 0\n",
      "        count = count + 1\n",
      "    return v\n",
      "\n",
      "\n",
      "#hasher = FeatureHasher(input_type = 'string')\n",
      "print \"Step2: Hashing Frequency Table\"\n",
      "a = set(train)\n",
      "table = {}\n",
      "train = train.fillna('-999')\n",
      "test = test.fillna('-999')\n",
      "\n",
      "for i in a:\n",
      "    if i == 'id':\n",
      "        continue\n",
      "    if train[i].dtypes == 'object':\n",
      "        #print i\n",
      "        table = freq(train[i], table)\n",
      "\n",
      "for i in a:\n",
      "    if i == 'id':\n",
      "        continue\n",
      "    if train[i].dtypes == 'object':\n",
      "        #print i\n",
      "        train[i] = lookup(table, train[i])\n",
      "\ttest[i] = lookup(table, test[i])\n",
      "\n",
      "# Split the train into training and validation\n",
      "split = 0.8\n",
      "rows = random.sample(train.index, int(split * nSample))\n",
      "\n",
      "temp = train\n",
      "train = temp.ix[rows]\n",
      "validation = temp.drop(rows)\n",
      "\n",
      "temp = label\n",
      "label = temp.ix[rows]\n",
      "label_validation = temp.drop(rows)\n",
      "del temp\n",
      "\n",
      "# scaling    \n",
      "#train[i] = preprocessing.scale(train[i].astype('float'))\n",
      "#validation[i] = preprocessing.scale(validation[i].astype('float'))\n",
      "#test[i] = preprocessing.scale(test[i].astype('float'))\n",
      "\n",
      "del table\n",
      "p1 = datetime.now()\n",
      "print('Sampling and hashing are done, elapsed time: %s' % str(p1 - start))\n",
      "\n",
      "#\"\"\"\n",
      "\n",
      "# Model training ###################################################\n",
      "        \n",
      "print \"Step3: Start training models\"       \n",
      "\n",
      "# a list for range(0, 33) - 13, no need to learn y14 since it is always 0\n",
      "K = set(label)\n",
      "count = 0\n",
      "model = {}\n",
      "log_loss = {}\n",
      "\n",
      "for k in K:\n",
      "    if k != 'y14' and  k != 'id':\n",
      "        forest = RandomForestClassifier(n_estimators = 10, criterion = \"gini\", verbose = 0, n_jobs = 1)\n",
      "       # No 'y14' or 'id'    \n",
      "        model[k] = forest.fit(train.drop('id', 1), label[k])\n",
      "        output_validation = model[k].predict_proba(validation.drop('id', 1))\n",
      "        log_loss[k] = metrics.log_loss(label_validation[k].as_matrix(), output_validation)\n",
      "        #print \"\\n\", k, \"AUC = \", metrics.roc_auc_score(label_validation[k], output_validation[:,1])\n",
      "        print \"\\n\", k, \"Log_Loss = \", log_loss[k]\n",
      "        count += 1\n",
      "\n",
      "print('\\nTotal Log Loss = ', sum(log_loss.values()) / 33, '\\n')\n",
      "p2 = datetime.now()\n",
      "print('Training is done, elapsed time: %s' % str(p2 - p1))\n",
      "\n",
      "# Saving submission #######################################################################\n",
      "\n",
      "with open('./submission_new.csv', 'w') as outfile:\n",
      "    outfile.write('id_label,pred\\n')\n",
      "    output = {}\n",
      "    n = range(len(test))\n",
      "    #n = range(100)\n",
      "\n",
      "    K = range(33)\n",
      "    for k in K:\n",
      "        key = 'y' + str(k + 1)\n",
      "        if k != 13:\n",
      "            output[key] = model[key].predict_proba(test.drop('id', 1))\n",
      "                     \n",
      "    for i in n:\n",
      "        if i % 100000 == 0:\n",
      "            print i\n",
      "        for k in K:\n",
      "            key = 'y' + str(k + 1) \n",
      "            if k == 13:\n",
      "                outfile.write('%s_y14,0.0\\n' % test.id[i])\n",
      "            else:\n",
      "                outfile.write('%s_%s,%s\\n' % (test.id[i], key, str(output[key][i,1])))\n",
      "    \n",
      "print('Dumping is done, elapsed time: %s' % str(datetime.now() - p2))           \n",
      "\n",
      "print('Done, elapsed time: %s' % str(datetime.now() - start))\n"
     ],
     "language": "python",
     "metadata": {},
     "outputs": []
    },
    {
     "cell_type": "code",
     "collapsed": false,
     "input": [
      "import pandas as pd\n",
      "blend_1 = pd.read_csv('submission1234.csv')\n",
      "blend_2 = pd.read_csv('submission1234_corr.csv')\n",
      "blend_3 = pd.read_csv('submission_new.csv')\n",
      "\n"
     ],
     "language": "python",
     "metadata": {},
     "outputs": [],
     "prompt_number": 9
    },
    {
     "cell_type": "code",
     "collapsed": false,
     "input": [
      "import pandas as pd\n",
      "\n",
      "#blend_1 = pd.read_csv('submission1234.csv')\n",
      "#blend_2 = pd.read_csv('submission1234_corr.csv')\n",
      "#blend_3 = pd.read_csv('submission_new.csv')\n",
      "\n",
      "start = datetime.now()\n",
      "prob = 0.4 * blend_1.pred + 0.6 * blend_2.pred\n",
      "id_label = blend_1.id_label\n",
      "\n",
      "with open('./submission_blen_2.csv', 'w') as outfile:\n",
      "    outfile.write('id_label,pred\\n')\n",
      "    output = {}\n",
      "    n = range(len(blend_1))\n",
      "    #n = range(100)\n",
      "                     \n",
      "    for i in n:\n",
      "        if i % 1000000 == 0:\n",
      "            print i\n",
      "        \n",
      "        outfile.write('%s,%s\\n' % (id_label[i], prob[i])) \n",
      "        \n",
      "print \"It takes time = \", datetime.now() - start"
     ],
     "language": "python",
     "metadata": {},
     "outputs": [
      {
       "output_type": "stream",
       "stream": "stdout",
       "text": [
        "0\n",
        "1000000"
       ]
      },
      {
       "output_type": "stream",
       "stream": "stdout",
       "text": [
        "\n",
        "2000000"
       ]
      },
      {
       "output_type": "stream",
       "stream": "stdout",
       "text": [
        "\n",
        "3000000"
       ]
      },
      {
       "output_type": "stream",
       "stream": "stdout",
       "text": [
        "\n",
        "4000000"
       ]
      },
      {
       "output_type": "stream",
       "stream": "stdout",
       "text": [
        "\n",
        "5000000"
       ]
      },
      {
       "output_type": "stream",
       "stream": "stdout",
       "text": [
        "\n",
        "6000000"
       ]
      },
      {
       "output_type": "stream",
       "stream": "stdout",
       "text": [
        "\n",
        "7000000"
       ]
      },
      {
       "output_type": "stream",
       "stream": "stdout",
       "text": [
        "\n",
        "8000000"
       ]
      },
      {
       "output_type": "stream",
       "stream": "stdout",
       "text": [
        "\n",
        "9000000"
       ]
      },
      {
       "output_type": "stream",
       "stream": "stdout",
       "text": [
        "\n",
        "10000000"
       ]
      },
      {
       "output_type": "stream",
       "stream": "stdout",
       "text": [
        "\n",
        "11000000"
       ]
      },
      {
       "output_type": "stream",
       "stream": "stdout",
       "text": [
        "\n",
        "12000000"
       ]
      },
      {
       "output_type": "stream",
       "stream": "stdout",
       "text": [
        "\n",
        "13000000"
       ]
      },
      {
       "output_type": "stream",
       "stream": "stdout",
       "text": [
        "\n",
        "14000000"
       ]
      },
      {
       "output_type": "stream",
       "stream": "stdout",
       "text": [
        "\n",
        "15000000"
       ]
      },
      {
       "output_type": "stream",
       "stream": "stdout",
       "text": [
        "\n",
        "16000000"
       ]
      },
      {
       "output_type": "stream",
       "stream": "stdout",
       "text": [
        "\n",
        "17000000"
       ]
      },
      {
       "output_type": "stream",
       "stream": "stdout",
       "text": [
        "\n",
        "It takes time = "
       ]
      },
      {
       "output_type": "stream",
       "stream": "stdout",
       "text": [
        " 0:23:13.884000\n"
       ]
      }
     ],
     "prompt_number": 36
    },
    {
     "cell_type": "code",
     "collapsed": false,
     "input": [
      "cd 'Trade Shift/'"
     ],
     "language": "python",
     "metadata": {},
     "outputs": [
      {
       "output_type": "stream",
       "stream": "stdout",
       "text": [
        "C:\\Users\\SYan\\Desktop\\Kaggle\\Trade Shift\n"
       ]
      }
     ],
     "prompt_number": 3
    },
    {
     "cell_type": "code",
     "collapsed": false,
     "input": [
      "\"\"\"\n",
      "Created on Mon Oct 13 13:40:21 2014\n",
      "\n",
      "@author: SYan\n",
      "\"\"\"\n",
      "\n",
      "from datetime import datetime\n",
      "\n",
      "import matplotlib.pyplot as plt\n",
      "import numpy as np\n",
      "import pandas as pd\n",
      "import random\n",
      "\n",
      "from sklearn.ensemble import RandomForestClassifier\n",
      "from sklearn import preprocessing\n",
      "from sklearn import metrics\n",
      "\n",
      "# parameters #################################################################\n",
      "\n",
      "start = datetime.now()\n",
      "\n",
      "#\"\"\"\n",
      "# Only loading one time\n",
      "print \"Step0: Loading raw data\"\n",
      "raw_train = pd.read_csv('train.csv', header=0, nrows = 10000)\n",
      "raw_label = pd.read_csv('trainLabels.csv', header=0, nrows = 10000)\n",
      "raw_test = pd.read_csv('test.csv', header=0, nrows = 10000)\n",
      "\n",
      "print('Data loading is done! elapsed time: %s' % str(datetime.now() - start))\n",
      "\n",
      "#\"\"\"\n",
      "\n",
      "#\"\"\"\n",
      "\n",
      "print \"Step1: Sampling\"\n",
      "nSample = 10000\n",
      "rows = random.sample(raw_train.index, nSample)\n",
      "train = raw_train.ix[rows]\n",
      "label = raw_label.ix[rows]\n",
      "test = raw_test\n",
      "\n",
      "del raw_test\n",
      "del raw_train\n",
      "del raw_label\n",
      "\n",
      "\n",
      "D = 2 ** 18  # number of weights use for each model, we have 32 of them\n",
      "alpha = .1   # learning rate for sgd optimization\n",
      "\n",
      "#train = train.append(label)\n",
      "#train.dropna()\n",
      "\n",
      "# function, generator definitions ############################################\n",
      "\n",
      "#     bounded logarithmic loss of p given y\n",
      "def freq(v, table):\n",
      "    for key in v:\n",
      "        if not key in table or key == 'YES':\n",
      "            table[key] = 1\n",
      "        elif key == 'NO':\n",
      "            table[key] = 0\n",
      "        elif key == '' or key == '-999':\n",
      "            table[key] = -999\n",
      "        else:\n",
      "            table[key] += 1\n",
      "        \n",
      "    return table\n",
      "    \n",
      "\n",
      "def lookup(hashT, v):\n",
      "    ind = v.index\n",
      "    count = 0\n",
      "    \n",
      "    for key in v:\n",
      "        if key in hashT:\n",
      "            v[ind[count]] = hashT[key]\n",
      "        else:\n",
      "            v[ind[count]] = 0\n",
      "        count = count + 1\n",
      "    return v\n",
      "  \n",
      "#hasher = FeatureHasher(input_type = 'string')\n",
      "print \"Step2: Hashing Frequency Table\"\n",
      "a = set(train)\n",
      "table = {}\n",
      "train = train.fillna('-999')\n",
      "test = test.fillna('-999')\n",
      "\n",
      "for i in a:\n",
      "    if i == 'id':\n",
      "        continue\n",
      "    if train[i].dtypes == 'object':\n",
      "        #print i\n",
      "        table = freq(train[i], table)\n",
      "\n",
      "for i in a:\n",
      "    if i == 'id':\n",
      "        continue\n",
      "    if train[i].dtypes == 'object':\n",
      "        #print i\n",
      "        train[i] = lookup(table, train[i])\n",
      "        test[i] = lookup(table, test[i])\n",
      "      \n",
      "print \"Starting Log Conversion\"\n",
      "# We convert the frequency into log scale and create pair-correlation\n",
      "hash_cols = [3,4,34,35,61,64,65,91,94,95] # This one supposed have high correlation\n",
      "for i in range(10):\n",
      "    key = 'x' + str(hash_cols[i])\n",
      "    vec = pd.DataFrame(np.zeros(train.shape[0]), columns= ['log' + key])\n",
      "    print key, vec.shape, train.shape\n",
      "    for j in range(len(train)):\n",
      "        num = train[key][train.index[j]]\n",
      "        if num != -999.0:\n",
      "            vec['log' + key][j] = np.log(1.0 + num)\n",
      "    \n",
      "    train = pd.concat([train,vec], axis=1)\n",
      "\n",
      "\n",
      "for i in range(10):\n",
      "    key1 = 'logx' + str(hash_cols[i])\n",
      "    for j in range(i+1, 10):\n",
      "        key2 = 'logx' + str(hash_cols[j])\n",
      "        print \"corr = \", key1, key2\n",
      "        vec = pd.DataFrame(train[key1] * train[key2], columns=[key1 + key2])\n",
      "        train = pd.concat([train, vec], axis = 1)\n",
      "\n",
      "# Split the train into training and validation\n",
      "split = 0.8\n",
      "rows = random.sample(train.index, int(split * nSample))\n",
      "\n",
      "temp = train\n",
      "train = temp.ix[rows]\n",
      "validation = temp.drop(rows)\n",
      "\n",
      "temp = label\n",
      "label = temp.ix[rows]\n",
      "label_validation = temp.drop(rows)\n",
      "del temp\n",
      "\n",
      "# scaling    \n",
      "#train[i] = preprocessing.scale(train[i].astype('float'))\n",
      "#validation[i] = preprocessing.scale(validation[i].astype('float'))\n",
      "#test[i] = preprocessing.scale(test[i].astype('float'))\n",
      "\n",
      "del table\n",
      "p1 = datetime.now()\n",
      "print('Sampling and hashing are done, elapsed time: %s' % str(p1 - start))"
     ],
     "language": "python",
     "metadata": {},
     "outputs": [
      {
       "output_type": "stream",
       "stream": "stdout",
       "text": [
        "Step0: Loading raw data\n",
        "Data loading is done! elapsed time: 0:00:00.605000"
       ]
      },
      {
       "output_type": "stream",
       "stream": "stdout",
       "text": [
        "\n",
        "Step1: Sampling\n",
        "Step2: Hashing Frequency Table\n",
        "Starting Log Conversion"
       ]
      },
      {
       "output_type": "stream",
       "stream": "stdout",
       "text": [
        "\n",
        "x3 (10000, 1) (10000, 146)\n",
        "x4"
       ]
      },
      {
       "output_type": "stream",
       "stream": "stdout",
       "text": [
        " (10000, 1) (10000, 147)\n",
        "x34"
       ]
      },
      {
       "output_type": "stream",
       "stream": "stdout",
       "text": [
        " (10000, 1) (10000, 148)\n",
        "x35"
       ]
      },
      {
       "output_type": "stream",
       "stream": "stdout",
       "text": [
        " (10000, 1) (10000, 149)\n",
        "x61"
       ]
      },
      {
       "output_type": "stream",
       "stream": "stdout",
       "text": [
        " (10000, 1) (10000, 150)\n",
        "x64"
       ]
      },
      {
       "output_type": "stream",
       "stream": "stdout",
       "text": [
        " (10000, 1) (10000, 151)\n",
        "x65"
       ]
      },
      {
       "output_type": "stream",
       "stream": "stdout",
       "text": [
        " (10000, 1) (10000, 152)\n",
        "x91"
       ]
      },
      {
       "output_type": "stream",
       "stream": "stdout",
       "text": [
        " (10000, 1) (10000, 153)\n",
        "x94"
       ]
      },
      {
       "output_type": "stream",
       "stream": "stdout",
       "text": [
        " (10000, 1) (10000, 154)\n",
        "x95"
       ]
      },
      {
       "output_type": "stream",
       "stream": "stdout",
       "text": [
        " (10000, 1) (10000, 155)\n",
        "corr = "
       ]
      },
      {
       "output_type": "stream",
       "stream": "stdout",
       "text": [
        " logx3 logx4\n",
        "corr = "
       ]
      },
      {
       "output_type": "stream",
       "stream": "stdout",
       "text": [
        " logx3 logx34\n",
        "corr =  logx3 logx35\n",
        "corr = "
       ]
      },
      {
       "output_type": "stream",
       "stream": "stdout",
       "text": [
        " logx3 logx61\n",
        "corr =  logx3 logx64\n",
        "corr = "
       ]
      },
      {
       "output_type": "stream",
       "stream": "stdout",
       "text": [
        " logx3 logx65\n",
        "corr = "
       ]
      },
      {
       "output_type": "stream",
       "stream": "stdout",
       "text": [
        " logx3 logx91\n",
        "corr = "
       ]
      },
      {
       "output_type": "stream",
       "stream": "stdout",
       "text": [
        " logx3 logx94\n",
        "corr = "
       ]
      },
      {
       "output_type": "stream",
       "stream": "stdout",
       "text": [
        " logx3 logx95\n",
        "corr = "
       ]
      },
      {
       "output_type": "stream",
       "stream": "stdout",
       "text": [
        " logx4 logx34\n",
        "corr =  logx4 logx35\n",
        "corr = "
       ]
      },
      {
       "output_type": "stream",
       "stream": "stdout",
       "text": [
        " logx4 logx61\n",
        "corr = "
       ]
      },
      {
       "output_type": "stream",
       "stream": "stdout",
       "text": [
        " logx4 logx64\n",
        "corr = "
       ]
      },
      {
       "output_type": "stream",
       "stream": "stdout",
       "text": [
        " logx4 logx65\n",
        "corr = "
       ]
      },
      {
       "output_type": "stream",
       "stream": "stdout",
       "text": [
        " logx4 logx91\n",
        "corr = "
       ]
      },
      {
       "output_type": "stream",
       "stream": "stdout",
       "text": [
        " logx4 logx94\n",
        "corr = "
       ]
      },
      {
       "output_type": "stream",
       "stream": "stdout",
       "text": [
        " logx4 logx95\n",
        "corr = "
       ]
      },
      {
       "output_type": "stream",
       "stream": "stdout",
       "text": [
        " logx34 logx35\n",
        "corr = "
       ]
      },
      {
       "output_type": "stream",
       "stream": "stdout",
       "text": [
        " logx34 logx61\n",
        "corr = "
       ]
      },
      {
       "output_type": "stream",
       "stream": "stdout",
       "text": [
        " logx34 logx64\n",
        "corr = "
       ]
      },
      {
       "output_type": "stream",
       "stream": "stdout",
       "text": [
        " logx34 logx65\n",
        "corr = "
       ]
      },
      {
       "output_type": "stream",
       "stream": "stdout",
       "text": [
        " logx34 logx91\n",
        "corr = "
       ]
      },
      {
       "output_type": "stream",
       "stream": "stdout",
       "text": [
        " logx34 logx94\n",
        "corr = "
       ]
      },
      {
       "output_type": "stream",
       "stream": "stdout",
       "text": [
        " logx34 logx95\n",
        "corr = "
       ]
      },
      {
       "output_type": "stream",
       "stream": "stdout",
       "text": [
        " logx35 logx61\n",
        "corr = "
       ]
      },
      {
       "output_type": "stream",
       "stream": "stdout",
       "text": [
        " logx35 logx64\n",
        "corr = "
       ]
      },
      {
       "output_type": "stream",
       "stream": "stdout",
       "text": [
        " logx35 logx65\n",
        "corr = "
       ]
      },
      {
       "output_type": "stream",
       "stream": "stdout",
       "text": [
        " logx35 logx91\n",
        "corr = "
       ]
      },
      {
       "output_type": "stream",
       "stream": "stdout",
       "text": [
        " logx35 logx94\n",
        "corr = "
       ]
      },
      {
       "output_type": "stream",
       "stream": "stdout",
       "text": [
        " logx35 logx95\n",
        "corr = "
       ]
      },
      {
       "output_type": "stream",
       "stream": "stdout",
       "text": [
        " logx61 logx64\n",
        "corr = "
       ]
      },
      {
       "output_type": "stream",
       "stream": "stdout",
       "text": [
        " logx61 logx65\n",
        "corr = "
       ]
      },
      {
       "output_type": "stream",
       "stream": "stdout",
       "text": [
        " logx61 logx91\n",
        "corr = "
       ]
      },
      {
       "output_type": "stream",
       "stream": "stdout",
       "text": [
        " logx61 logx94\n",
        "corr = "
       ]
      },
      {
       "output_type": "stream",
       "stream": "stdout",
       "text": [
        " logx61 logx95\n",
        "corr = "
       ]
      },
      {
       "output_type": "stream",
       "stream": "stdout",
       "text": [
        " logx64 logx65\n",
        "corr = "
       ]
      },
      {
       "output_type": "stream",
       "stream": "stdout",
       "text": [
        " logx64 logx91\n",
        "corr = "
       ]
      },
      {
       "output_type": "stream",
       "stream": "stdout",
       "text": [
        " logx64 logx94\n",
        "corr = "
       ]
      },
      {
       "output_type": "stream",
       "stream": "stdout",
       "text": [
        " logx64 logx95\n",
        "corr = "
       ]
      },
      {
       "output_type": "stream",
       "stream": "stdout",
       "text": [
        " logx65 logx91\n",
        "corr = "
       ]
      },
      {
       "output_type": "stream",
       "stream": "stdout",
       "text": [
        " logx65 logx94\n",
        "corr = "
       ]
      },
      {
       "output_type": "stream",
       "stream": "stdout",
       "text": [
        " logx65 logx95\n",
        "corr = "
       ]
      },
      {
       "output_type": "stream",
       "stream": "stdout",
       "text": [
        " logx91 logx94\n",
        "corr =  logx91 logx95\n",
        "corr = "
       ]
      },
      {
       "output_type": "stream",
       "stream": "stdout",
       "text": [
        " logx94 logx95\n",
        "Sampling and hashing are done, elapsed time: 0:00:17.482000"
       ]
      },
      {
       "output_type": "stream",
       "stream": "stdout",
       "text": [
        "\n"
       ]
      }
     ],
     "prompt_number": 84
    },
    {
     "cell_type": "code",
     "collapsed": false,
     "input": [
      "train.logx34logx35"
     ],
     "language": "python",
     "metadata": {},
     "outputs": [
      {
       "metadata": {},
       "output_type": "pyout",
       "prompt_number": 85,
       "text": [
        "4621    13.951647\n",
        "5519    24.727585\n",
        "6470     9.482236\n",
        "6822     6.438493\n",
        "5438    22.081124\n",
        "8309     6.656627\n",
        "2459    19.401860\n",
        "7282     3.131822\n",
        "4563     4.083777\n",
        "1378     6.899720\n",
        "9926    13.799440\n",
        "8341     8.186570\n",
        "5447    16.607704\n",
        "6361    23.016935\n",
        "6905     2.849441\n",
        "...\n",
        "3093     4.820588\n",
        "7471     1.115577\n",
        "3995     2.284500\n",
        "2801     9.641177\n",
        "3265     4.402505\n",
        "1120     9.641177\n",
        "7680     7.351942\n",
        "3326    39.776637\n",
        "445      9.871499\n",
        "4132    13.210936\n",
        "3563    24.726162\n",
        "9039    23.089175\n",
        "2661    19.669712\n",
        "7118    25.146117\n",
        "2779    25.994142\n",
        "Name: logx34logx35, Length: 8000, dtype: float64"
       ]
      }
     ],
     "prompt_number": 85
    },
    {
     "cell_type": "code",
     "collapsed": false,
     "input": [
      "train.logx34"
     ],
     "language": "python",
     "metadata": {},
     "outputs": [
      {
       "metadata": {},
       "output_type": "pyout",
       "prompt_number": 87,
       "text": [
        "4621    2.302585\n",
        "5519    3.610918\n",
        "6470    1.609438\n",
        "6822    1.386294\n",
        "5438    2.995732\n",
        "8309    1.098612\n",
        "2459    2.833213\n",
        "7282    1.609438\n",
        "4563    0.693147\n",
        "1378    1.098612\n",
        "9926    2.197225\n",
        "8341    1.386294\n",
        "5447    3.178054\n",
        "6361    3.555348\n",
        "6905    0.693147\n",
        "...\n",
        "3093    0.693147\n",
        "7471    0.693147\n",
        "3995    0.693147\n",
        "2801    1.386294\n",
        "3265    1.098612\n",
        "1120    1.386294\n",
        "7680    1.386294\n",
        "3326    5.153292\n",
        "445     1.791759\n",
        "4132    2.397895\n",
        "3563    3.555348\n",
        "9039    3.637586\n",
        "2661    3.583519\n",
        "7118    3.688879\n",
        "2779    3.737670\n",
        "Name: logx34, Length: 8000, dtype: float64"
       ]
      }
     ],
     "prompt_number": 87
    },
    {
     "cell_type": "code",
     "collapsed": false,
     "input": [
      "train.logx35"
     ],
     "language": "python",
     "metadata": {},
     "outputs": [
      {
       "metadata": {},
       "output_type": "pyout",
       "prompt_number": 88,
       "text": [
        "4621    6.059123\n",
        "5519    6.848005\n",
        "6470    5.891644\n",
        "6822    4.644391\n",
        "5438    7.370860\n",
        "8309    6.059123\n",
        "2459    6.848005\n",
        "7282    1.945910\n",
        "4563    5.891644\n",
        "1378    6.280396\n",
        "9926    6.280396\n",
        "8341    5.905362\n",
        "5447    5.225747\n",
        "6361    6.473891\n",
        "6905    4.110874\n",
        "...\n",
        "3093    6.954639\n",
        "7471    1.609438\n",
        "3995    3.295837\n",
        "2801    6.954639\n",
        "3265    4.007333\n",
        "1120    6.954639\n",
        "7680    5.303305\n",
        "3326    7.718685\n",
        "445     5.509388\n",
        "4132    5.509388\n",
        "3563    6.954639\n",
        "9039    6.347389\n",
        "2661    5.488938\n",
        "7118    6.816736\n",
        "2779    6.954639\n",
        "Name: logx35, Length: 8000, dtype: float64"
       ]
      }
     ],
     "prompt_number": 88
    },
    {
     "cell_type": "code",
     "collapsed": false,
     "input": [
      "load fast_solution.py"
     ],
     "language": "python",
     "metadata": {},
     "outputs": [],
     "prompt_number": 89
    },
    {
     "cell_type": "code",
     "collapsed": false,
     "input": [
      "'''\n",
      "           DO WHAT THE FUCK YOU WANT TO PUBLIC LICENSE\n",
      "                   Version 2, December 2004\n",
      "\n",
      "Copyright (C) 2004 Sam Hocevar <sam@hocevar.net>\n",
      "\n",
      "Everyone is permitted to copy and distribute verbatim or modified\n",
      "copies of this license document, and changing it is allowed as long\n",
      "as the name is changed.\n",
      "\n",
      "           DO WHAT THE FUCK YOU WANT TO PUBLIC LICENSE\n",
      "  TERMS AND CONDITIONS FOR COPYING, DISTRIBUTION AND MODIFICATION\n",
      "\n",
      " 0. You just DO WHAT THE FUCK YOU WANT TO.\n",
      "'''\n",
      "\n",
      "\n",
      "from datetime import datetime\n",
      "from math import log, exp, sqrt\n",
      "\n",
      "\n",
      "# TL; DR\n",
      "# the main learning process start at line 122\n",
      "\n",
      "\n",
      "# parameters #################################################################\n",
      "\n",
      "train = 'train.csv'  # path to training file\n",
      "label = 'trainLabels.csv'  # path to label file of training data\n",
      "test = 'test.csv'  # path to testing file\n",
      "\n",
      "D = 2 ** 23  # number of weights use for each model, we have 32 of them\n",
      "alpha = .1   # learning rate for sgd optimization\n",
      "\n",
      "\n",
      "# function, generator definitions ############################################\n",
      "\n",
      "# A. x, y generator\n",
      "# INPUT:\n",
      "#     path: path to train.csv or test.csv\n",
      "#     label_path: (optional) path to trainLabels.csv\n",
      "# YIELDS:\n",
      "#     ID: id of the instance (can also acts as instance count)\n",
      "#     x: a list of indices that its value is 1\n",
      "#     y: (if label_path is present) label value of y1 to y33\n",
      "def data(path, label_path=None):\n",
      "    for t, line in enumerate(open(path)):\n",
      "        #if t > 100000:\n",
      "         #   break\n",
      "        \n",
      "        # initialize our generator\n",
      "        if t == 0:\n",
      "            # create a static x,\n",
      "            # so we don't have to construct a new x for every instance\n",
      "            x = [0] * (146 + 46)\n",
      "            if label_path:\n",
      "                label = open(label_path)\n",
      "                label.readline()  # we don't need the headers\n",
      "            continue\n",
      "        # parse x\n",
      "        for m, feat in enumerate(line.rstrip().split(',')):\n",
      "            if m == 0:\n",
      "                ID = int(feat)\n",
      "            else:\n",
      "                # one-hot encode everything with hash trick\n",
      "                # categorical: one-hotted\n",
      "                # boolean: ONE-HOTTED\n",
      "                # numerical: ONE-HOTTED!\n",
      "                # note, the build in hash(), although fast is not stable,\n",
      "                #       i.e., same value won't always have the same hash\n",
      "                #       on different machines\n",
      "                x[m] = abs(hash(str(m) + '_' + feat)) % D\n",
      "        \n",
      "\trow = line.rstrip().split(',')\n",
      "\thash_cols = [3,4,34,35,61,64,65,91,94,95]\n",
      "        t = 146\n",
      "        for i in xrange(10):\n",
      "          for j in xrange(i+1, 10):\n",
      "            t += 1\n",
      "            x[t] = abs(hash(row[hash_cols[i]]+\"_x_\"+row[hash_cols[j]])) % D\n",
      "\n",
      "# parse y, if provided\n",
      "        if label_path:\n",
      "            # use float() to prevent future type casting, [1:] to ignore id\n",
      "            y = [float(y) for y in label.readline().split(',')[1:]]\n",
      "        yield (ID, x, y) if label_path else (ID, x)\n",
      "\n",
      "\n",
      "# B. Bounded logloss\n",
      "# INPUT:\n",
      "#     p: our prediction\n",
      "#     y: real answer\n",
      "# OUTPUT\n",
      "#     bounded logarithmic loss of p given y\n",
      "def logloss(p, y):\n",
      "    p = max(min(p, 1. - 10e-15), 10e-15)\n",
      "    return -log(p) if y == 1. else -log(1. - p)\n",
      "\n",
      "\n",
      "# C. Get probability estimation on x\n",
      "# INPUT:\n",
      "#     x: features\n",
      "#     w: weights\n",
      "# OUTPUT:\n",
      "#     probability of p(y = 1 | x; w)\n",
      "def predict(x, w):\n",
      "    wTx = 0.\n",
      "    for i in x:  # do wTx\n",
      "        wTx += w[i] * 1.  # w[i] * x[i], but if i in x we got x[i] = 1.\n",
      "    return 1. / (1. + exp(-max(min(wTx, 20.), -20.)))  # bounded sigmoid\n",
      "\n",
      "\n",
      "# D. Update given model\n",
      "# INPUT:\n",
      "# alpha: learning rate\n",
      "#     w: weights\n",
      "#     n: sum of previous absolute gradients for a given feature\n",
      "#        this is used for adaptive learning rate\n",
      "#     x: feature, a list of indices\n",
      "#     p: prediction of our model\n",
      "#     y: answer\n",
      "# MODIFIES:\n",
      "#     w: weights\n",
      "#     n: sum of past absolute gradients\n",
      "def update(alpha, w, n, x, p, y):\n",
      "    for i in x:\n",
      "        # alpha / sqrt(n) is the adaptive learning rate\n",
      "        # (p - y) * x[i] is the current gradient\n",
      "        # note that in our case, if i in x then x[i] = 1.\n",
      "        n[i] += abs(p - y)\n",
      "        w[i] -= (p - y) * 1. * alpha / sqrt(n[i])\n",
      "\n",
      "\n",
      "# training and testing #######################################################\n",
      "start = datetime.now()\n",
      "\n",
      "# a list for range(0, 33) - 13, no need to learn y14 since it is always 0\n",
      "K = [k for k in range(33) if k != 13]\n",
      "\n",
      "# initialize our model, all 32 of them, again ignoring y14\n",
      "w = [[0.] * D if k != 13 else None for k in range(33)]\n",
      "n = [[0.] * D if k != 13 else None for k in range(33)]\n",
      "\n",
      "loss = 0.\n",
      "loss_y14 = log(1. - 10**-15)\n",
      "\n",
      "for ID, x, y in data(train, label):\n",
      "\n",
      "    # get predictions and train on all labels\n",
      "    for k in K:\n",
      "        p = predict(x, w[k])\n",
      "        update(alpha, w[k], n[k], x, p, y[k])\n",
      "        loss += logloss(p, y[k])  # for progressive validation\n",
      "    loss += loss_y14  # the loss of y14, logloss is never zero\n",
      "\n",
      "    # print out progress, so that we know everything is working\n",
      "    if ID % 100000 == 0:\n",
      "        print('%s\\tencountered: %d\\tcurrent logloss: %f' % (\n",
      "            datetime.now(), ID, (loss/33.)/ID))\n",
      "\n",
      "with open('./submission_bit24.csv', 'w') as outfile:\n",
      "    outfile.write('id_label,pred\\n')\n",
      "    for ID, x in data(test):\n",
      "        for k in K:\n",
      "            p = predict(x, w[k])\n",
      "            outfile.write('%s_y%d,%s\\n' % (ID, k+1, str(p)))\n",
      "            if k == 12:\n",
      "                outfile.write('%s_y14,0.0\\n' % ID)\n",
      "\n",
      "print('Done, elapsed time: %s' % str(datetime.now() - start))\n"
     ],
     "language": "python",
     "metadata": {},
     "outputs": []
    },
    {
     "cell_type": "code",
     "collapsed": false,
     "input": [
      "load log_corr.py"
     ],
     "language": "python",
     "metadata": {},
     "outputs": [],
     "prompt_number": 3
    },
    {
     "cell_type": "code",
     "collapsed": false,
     "input": [
      "\"\"\"\n",
      "Created on Mon Oct 13 13:40:21 2014\n",
      "\n",
      "@author: SYan\n",
      "\"\"\"\n",
      "\n",
      "from datetime import datetime\n",
      "\n",
      "import matplotlib.pyplot as plt\n",
      "import numpy as np\n",
      "import pandas as pd\n",
      "import random\n",
      "\n",
      "from sklearn.ensemble import RandomForestClassifier\n",
      "from sklearn import preprocessing\n",
      "from sklearn import metrics\n",
      "\n",
      "# parameters #################################################################\n",
      "\n",
      "start = datetime.now()\n",
      "\n",
      "\n",
      "# Only loading one time\n",
      "print \"Step0: Loading raw data\"\n",
      "raw_train = pd.read_csv('train.csv', header=0)\n",
      "raw_label = pd.read_csv('trainLabels.csv', header=0)\n",
      "raw_test = pd.read_csv('test.csv', header=0)\n",
      "\n",
      "print('Data loading is done! elapsed time: %s' % str(datetime.now() - start))\n",
      "\n",
      "#train = pd.read_csv('train_vec.csv', header=0, nrows=10000)\n",
      "#validation = pd.read_csv('validation_vec.csv', header=0, nrows=10000)\n",
      "#test = pd.read_csv('test_vec.csv', header=0, nrows=10000)\n",
      "\n",
      "\n",
      "print \"Step1: Sampling\"\n",
      "nSample = 100000\n",
      "rows = random.sample(raw_train.index, nSample)\n",
      "train = raw_train.ix[rows]\n",
      "label = raw_label.ix[rows]\n",
      "test = raw_test\n",
      "\n",
      "del raw_test\n",
      "del raw_train\n",
      "del raw_label\n",
      "\n",
      "\n",
      "D = 2 ** 18  # number of weights use for each model, we have 32 of them\n",
      "alpha = .1   # learning rate for sgd optimization\n",
      "\n",
      "#train = train.append(label)\n",
      "#train.dropna()\n",
      "\n",
      "# function, generator definitions ############################################\n",
      "\n",
      "#     bounded logarithmic loss of p given y\n",
      "def freq(v, table):\n",
      "    for key in v:\n",
      "        if not key in table or key == 'YES':\n",
      "            table[key] = 1\n",
      "        elif key == 'NO':\n",
      "            table[key] = 0\n",
      "        elif key == '' or key == '-999':\n",
      "            table[key] = -999\n",
      "        else:\n",
      "            table[key] += 1\n",
      "        \n",
      "    return table\n",
      "    \n",
      "\n",
      "def lookup(hashT, v):\n",
      "    ind = v.index\n",
      "    count = 0\n",
      "    \n",
      "    for key in v:\n",
      "        if key in hashT:\n",
      "            v[ind[count]] = hashT[key]\n",
      "        else:\n",
      "            v[ind[count]] = 0\n",
      "        count = count + 1\n",
      "    return v\n",
      "  \n",
      "#hasher = FeatureHasher(input_type = 'string')\n",
      "print \"Step2: Hashing Frequency Table\"\n",
      "a = set(train)\n",
      "table = {}\n",
      "train = train.fillna('-999')\n",
      "test = test.fillna('-999')\n",
      "\n",
      "for i in a:\n",
      "    if i == 'id':\n",
      "        continue\n",
      "    if train[i].dtypes == 'object':\n",
      "        #print i\n",
      "        table = freq(train[i], table)\n",
      "\n",
      "for i in a:\n",
      "    if i == 'id':\n",
      "        continue\n",
      "    if train[i].dtypes == 'object':\n",
      "        #print i\n",
      "        train[i] = lookup(table, train[i])\n",
      "        test[i] = lookup(table, test[i])\n",
      "\n",
      "\n",
      "print \"Starting Log Conversion\"\n",
      "# We convert the frequency into log scale and create pair-correlation\n",
      "\n",
      "def log_corr(data):\n",
      "    hash_cols = [3,4,34,35,61,64,65,91,94,95] # This one supposed have high correlation\n",
      "    \n",
      "    for i in range(10):\n",
      "        key = 'x' + str(hash_cols[i])\n",
      "        vec = pd.DataFrame(np.zeros(data.shape[0]), columns= ['log' + key], index=data.index)\n",
      "        print key, vec.shape, data.shape, len(data)\n",
      "        \n",
      "        for j in data.index:\n",
      "            num = data[key][j]\n",
      "            #print key, 'num = ', num\n",
      "\n",
      "            if num != -999.0:\n",
      "                vec['log' + key][j] = np.log(1.0 + num)\n",
      "                \n",
      "        data = pd.concat([data, vec], axis = 1)\n",
      "\n",
      "\n",
      "    for i in range(10):\n",
      "        key1 = 'logx' + str(hash_cols[i])\n",
      "        for j in range(i+1, 10):\n",
      "            key2 = 'logx' + str(hash_cols[j])\n",
      "            #print \"corr = \", key1, key2\n",
      "            \n",
      "            vec = pd.DataFrame(data[key1] * data[key2], columns=[key1 + key2], index=data.index)\n",
      "            data = pd.concat([data, vec], axis = 1)\n",
      "    \n",
      "    return data\n",
      "    \n",
      "# train\n",
      "\n",
      "train = log_corr(train)\n",
      "test = log_corr(test)\n",
      "\n",
      "# Split the train into training and validation\n",
      "split = 0.8\n",
      "rows = random.sample(train.index, int(split * nSample))\n",
      "\n",
      "temp = train\n",
      "train = temp.ix[rows]\n",
      "validation = temp.drop(rows)\n",
      "\n",
      "temp = label\n",
      "label = temp.ix[rows]\n",
      "label_validation = temp.drop(rows)\n",
      "del temp\n",
      "\n",
      "# scaling    \n",
      "#train[i] = preprocessing.scale(train[i].astype('float'))\n",
      "#validation[i] = preprocessing.scale(validation[i].astype('float'))\n",
      "#test[i] = preprocessing.scale(test[i].astype('float'))\n",
      "\n",
      "print train.shape\n",
      "print validation.shape\n",
      "print test.shape\n",
      "\n",
      "train.to_csv('train_log.csv', index = False)\n",
      "validation.to_csv('validation_log.csv', index = False)\n",
      "test.to_csv('test_log.csv', index = False)\n",
      "label.to_csv('label_vec.csv', index = False)\n",
      "label_validation.to_csv('label_validation_vec.csv', index = False)\n",
      "\n",
      "p1 = datetime.now()\n",
      "print('Sampling and hashing are done, elapsed time: %s' % str(p1 - start))"
     ],
     "language": "python",
     "metadata": {},
     "outputs": [
      {
       "output_type": "stream",
       "stream": "stdout",
       "text": [
        "Step0: Loading raw data\n",
        "Data loading is done! elapsed time: 0:01:16.632000"
       ]
      },
      {
       "output_type": "stream",
       "stream": "stdout",
       "text": [
        "\n",
        "Step1: Sampling\n",
        "Step2: Hashing Frequency Table"
       ]
      },
      {
       "output_type": "stream",
       "stream": "stdout",
       "text": [
        "\n",
        "Starting Log Conversion"
       ]
      },
      {
       "output_type": "stream",
       "stream": "stdout",
       "text": [
        "\n",
        "x3 (100000, 1) (100000, 146) 100000\n",
        "x4"
       ]
      },
      {
       "output_type": "stream",
       "stream": "stdout",
       "text": [
        " (100000, 1) (100000, 147) 100000\n",
        "x34"
       ]
      },
      {
       "output_type": "stream",
       "stream": "stdout",
       "text": [
        " (100000, 1) (100000, 148) 100000\n",
        "x35"
       ]
      },
      {
       "output_type": "stream",
       "stream": "stdout",
       "text": [
        " (100000, 1) (100000, 149) 100000\n",
        "x61"
       ]
      },
      {
       "output_type": "stream",
       "stream": "stdout",
       "text": [
        " (100000, 1) (100000, 150) 100000\n",
        "x64"
       ]
      },
      {
       "output_type": "stream",
       "stream": "stdout",
       "text": [
        " (100000, 1) (100000, 151) 100000\n",
        "x65"
       ]
      },
      {
       "output_type": "stream",
       "stream": "stdout",
       "text": [
        " (100000, 1) (100000, 152) 100000\n",
        "x91"
       ]
      },
      {
       "output_type": "stream",
       "stream": "stdout",
       "text": [
        " (100000, 1) (100000, 153) 100000\n",
        "x94"
       ]
      },
      {
       "output_type": "stream",
       "stream": "stdout",
       "text": [
        " (100000, 1) (100000, 154) 100000\n",
        "x95"
       ]
      },
      {
       "output_type": "stream",
       "stream": "stdout",
       "text": [
        " (100000, 1) (100000, 155) 100000\n",
        "x3"
       ]
      },
      {
       "output_type": "stream",
       "stream": "stdout",
       "text": [
        " (545082, 1) (545082, 146) 545082\n",
        "x4"
       ]
      },
      {
       "output_type": "stream",
       "stream": "stdout",
       "text": [
        " (545082, 1) (545082, 147) 545082\n",
        "x34"
       ]
      },
      {
       "output_type": "stream",
       "stream": "stdout",
       "text": [
        " (545082, 1) (545082, 148) 545082\n",
        "x35"
       ]
      },
      {
       "output_type": "stream",
       "stream": "stdout",
       "text": [
        " (545082, 1) (545082, 149) 545082\n",
        "x61"
       ]
      },
      {
       "output_type": "stream",
       "stream": "stdout",
       "text": [
        " (545082, 1) (545082, 150) 545082\n",
        "x64"
       ]
      },
      {
       "output_type": "stream",
       "stream": "stdout",
       "text": [
        " (545082, 1) (545082, 151) 545082\n",
        "x65"
       ]
      },
      {
       "output_type": "stream",
       "stream": "stdout",
       "text": [
        " (545082, 1) (545082, 152) 545082\n",
        "x91"
       ]
      },
      {
       "output_type": "stream",
       "stream": "stdout",
       "text": [
        " (545082, 1) (545082, 153) 545082\n",
        "x94"
       ]
      },
      {
       "output_type": "stream",
       "stream": "stdout",
       "text": [
        " (545082, 1) (545082, 154) 545082\n",
        "x95"
       ]
      },
      {
       "output_type": "stream",
       "stream": "stdout",
       "text": [
        " (545082, 1) (545082, 155) 545082\n",
        "(80000, 201)"
       ]
      },
      {
       "output_type": "stream",
       "stream": "stdout",
       "text": [
        "\n",
        "(20000, 201)\n",
        "(545082, 201)\n",
        "Sampling and hashing are done, elapsed time: 0:15:01.365000"
       ]
      },
      {
       "output_type": "stream",
       "stream": "stdout",
       "text": [
        "\n"
       ]
      }
     ],
     "prompt_number": 21
    },
    {
     "cell_type": "code",
     "collapsed": false,
     "input": [
      "test.logx3.hist()"
     ],
     "language": "python",
     "metadata": {},
     "outputs": [
      {
       "metadata": {},
       "output_type": "pyout",
       "prompt_number": 24,
       "text": [
        "<matplotlib.axes.AxesSubplot at 0xd265630>"
       ]
      },
      {
       "metadata": {},
       "output_type": "display_data",
       "png": "[encoded data removed]",
       "text": [
        "<matplotlib.figure.Figure at 0xd265f98>"
       ]
      }
     ],
     "prompt_number": 24
    },
    {
     "cell_type": "code",
     "collapsed": false,
     "input": [
      "validation.logx3.hist()"
     ],
     "language": "python",
     "metadata": {},
     "outputs": [
      {
       "metadata": {},
       "output_type": "pyout",
       "prompt_number": 26,
       "text": [
        "<matplotlib.axes.AxesSubplot at 0x41945f8>"
       ]
      },
      {
       "metadata": {},
       "output_type": "display_data",
       "png": "[encoded data removed]",
       "text": [
        "<matplotlib.figure.Figure at 0x1a0cd160>"
       ]
      }
     ],
     "prompt_number": 26
    },
    {
     "cell_type": "code",
     "collapsed": false,
     "input": [],
     "language": "python",
     "metadata": {},
     "outputs": []
    }
   ],
   "metadata": {}
  }
 ]
}